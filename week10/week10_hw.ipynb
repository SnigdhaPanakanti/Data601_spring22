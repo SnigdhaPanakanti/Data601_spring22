{
 "cells": [
  {
   "cell_type": "markdown",
   "metadata": {},
   "source": [
    "# Week 10 Homework\n",
    "\n",
    "Extend the following class and name this class `ModuleLister`\n",
    "\n",
    "This will find all unique modules in your homework and labs."
   ]
  },
  {
   "cell_type": "code",
   "execution_count": 1,
   "metadata": {},
   "outputs": [],
   "source": [
    "### DON'T CHANGE THIS CELL\n",
    "import os\n",
    "\n",
    "class FileProcessor:\n",
    "    \n",
    "    def __init__(self, path, file_types=['.ipynb']):\n",
    "        self.files = self.find_all_files(path, file_types)\n",
    "        print(f'{len(self.files)} file(s) found...')\n",
    "\n",
    "    \n",
    "    def find_all_files(self, path, file_types):\n",
    "        paths = []\n",
    "        for root, dirs, files in os.walk(path):\n",
    "            for file in files:\n",
    "                if any([file.endswith(ft) for ft in file_types]):\n",
    "                    path = os.path.join(root, file)\n",
    "                    # print(path)\n",
    "                    paths.append(path)\n",
    "        return paths\n",
    "    \n",
    "    def read_file(self, file_path, encoding='utf8'):\n",
    "        with open(file_path,encoding=encoding) as f:\n",
    "            return f.read()\n",
    "    \n",
    "    def start(self):\n",
    "        \"\"\"\n",
    "        Entry point for the class\n",
    "        \"\"\"\n",
    "        for file in self.files:\n",
    "            self.process_file(file)\n",
    "        \n",
    "    def process_file(self, file_path):\n",
    "        \"\"\"\n",
    "        abstract method\n",
    "        \"\"\"\n",
    "        raise NotImplemented('process_file method not implemented')"
   ]
  },
  {
   "cell_type": "code",
   "execution_count": 2,
   "metadata": {},
   "outputs": [],
   "source": [
    "### your code starts here\n",
    "\n",
    "class ModuleLister(FileProcessor):\n",
    "    def __init__(self,path):\n",
    "        super().__init__(path)\n",
    "        \n",
    "    def process_file(self, file_path):\n",
    "        file = processor.read_file(file_path,encoding='latin-1')\n",
    "        a = file.split(',')\n",
    "        for i in range(len(a)):\n",
    "            if 'import' in a[i]:\n",
    "                b = a[i].split('import')\n",
    "                length = len(b)\n",
    "                print(b[length-1])\n",
    "    pass"
   ]
  },
  {
   "cell_type": "code",
   "execution_count": 3,
   "metadata": {},
   "outputs": [
    {
     "name": "stdout",
     "output_type": "stream",
     "text": [
      "32 file(s) found...\n"
     ]
    }
   ],
   "source": [
    "# change the path according to your path\n",
    "\n",
    "processor = ModuleLister(path='C:\\\\Users\\\\Krishna\\\\Desktop\\\\Data601_spring22')"
   ]
  },
  {
   "cell_type": "code",
   "execution_count": 4,
   "metadata": {},
   "outputs": [
    {
     "name": "stdout",
     "output_type": "stream",
     "text": [
      " pandas as pd\\n\"\n",
      " os\\n\"\n",
      " pyplot as plt\\n\"\n",
      " seaborn as sns\\n\"\n",
      "   ]\n",
      "  }\n",
      " warnings\\n\"\n",
      " os\\n\"\n",
      " os\\n\"\n",
      " os\\n\"\n",
      " My_script\\n\"\n",
      " os\\n\"\n",
      " os\\n\"\n",
      " os\\n\"\n",
      " random \\n\"\n",
      " matplotlib.pyplot as plt\\n\"\n",
      " numpy as np\\n\"\n",
      " pandas as pd\\n\"\n",
      " matplotlib.pyplot as plt\\n\"\n",
      " random \\n\"\n",
      " matplotlib.pyplot as plt\\n\"\n",
      " random \\n\"\n",
      " random\\n\"\n",
      " random\\n\"\n",
      " array as arr\\n\"\n",
      " random\\n\"\n",
      " datetime\\n\"\n",
      " re\\n\"\n",
      " pandas as pd\\n\"\n",
      " random \\n\"\n",
      " random\\n\"\n",
      " random\\n\"\n",
      " array as arr\\n\"\n",
      " random\\n\"\n",
      " datetime\\n\"\n",
      " re\\n\"\n",
      " pandas as pd\\n\"\n",
      " pandas as pd\\n\"\n",
      " pandas as pd\\n\"\n",
      " pandas as pd\\n\"\n",
      " pandas as pd\\n\"\n",
      " pandas as pd\\n\"\n",
      " seaborn\\n\"\n",
      " seaborn as sns\\n\"\n",
      " pyplot as plt\\n\"\n",
      " numpy\\n\"\n",
      " numpy as np\"\n",
      "   ]\n",
      "  }\n",
      " seaborn as sns\\n\"\n",
      " seaborn as sns\\n\"\n",
      " pandas as pd\\n\"\n",
      " pandas as pd\\n\"\n",
      " seaborn\\n\"\n",
      " seaborn as sns\\n\"\n",
      " pyplot as plt\\n\"\n",
      " numpy\\n\"\n",
      " numpy as np\"\n",
      "   ]\n",
      "  }\n",
      " seaborn as sns\\n\"\n",
      " seaborn as sns\\n\"\n",
      " pandas as pd\\n\"\n",
      " ZipFile\"\n",
      "   ]\n",
      "  }\n",
      " request\\n\"\n",
      " pyplot as plt\\n\"\n",
      " Counter\\n\"\n",
      " ZipFile\\n\"\n",
      " pandas as pd\"\n",
      "   ]\n",
      "  }\n",
      " request\\n\"\n",
      " seaborn as sns\\n\"\n",
      " matplotlib.pyplot as plt\\n\"\n",
      " csv\\n\"\n",
      " random\\n\"\n",
      " pandas as pd\\n\"\n",
      " seaborn as sns\\n\"\n",
      " pyplot as plt\"\n",
      "   ]\n",
      "  }\n",
      " Faker\\n\"\n",
      " pandas as pd\\n\"\n",
      " re\"\n",
      "   ]\n",
      "  }\n",
      " pandas as pd\\n\"\n",
      "ant part of your role at work: (Select all that apply) - Other - Text\\n\"\n",
      "ance\\n\"\n",
      " pandas as pd\\n\"\n",
      " matplotlib\\n\"\n",
      " matplotlib.pyplot as plt\"\n",
      "   ]\n",
      "  }\n",
      " os\\n\"\n",
      "' in a[i]:\\n\"\n",
      "')\\n\"\n",
      " os\\n\"\n",
      "' in a[i]:\\n\"\n",
      "')\\n\"\n",
      " pandas as pd\\n\"\n",
      " BeautifulSoup\\n\"\n",
      " requests\"\n",
      "   ]\n",
      "  }\n",
      " pandas as pd\\n\"\n",
      " BeautifulSoup\\n\"\n",
      " requests\"\n",
      "   ]\n",
      "  }\n"
     ]
    }
   ],
   "source": [
    "processor.start()"
   ]
  },
  {
   "cell_type": "code",
   "execution_count": null,
   "metadata": {},
   "outputs": [],
   "source": []
  }
 ],
 "metadata": {
  "kernelspec": {
   "display_name": "Python 3 (ipykernel)",
   "language": "python",
   "name": "python3"
  },
  "language_info": {
   "codemirror_mode": {
    "name": "ipython",
    "version": 3
   },
   "file_extension": ".py",
   "mimetype": "text/x-python",
   "name": "python",
   "nbconvert_exporter": "python",
   "pygments_lexer": "ipython3",
   "version": "3.9.7"
  },
  "toc": {
   "base_numbering": 1,
   "nav_menu": {},
   "number_sections": true,
   "sideBar": true,
   "skip_h1_title": false,
   "title_cell": "Table of Contents",
   "title_sidebar": "Contents",
   "toc_cell": false,
   "toc_position": {},
   "toc_section_display": true,
   "toc_window_display": false
  },
  "varInspector": {
   "cols": {
    "lenName": 16,
    "lenType": 16,
    "lenVar": 40
   },
   "kernels_config": {
    "python": {
     "delete_cmd_postfix": "",
     "delete_cmd_prefix": "del ",
     "library": "var_list.py",
     "varRefreshCmd": "print(var_dic_list())"
    },
    "r": {
     "delete_cmd_postfix": ") ",
     "delete_cmd_prefix": "rm(",
     "library": "var_list.r",
     "varRefreshCmd": "cat(var_dic_list()) "
    }
   },
   "types_to_exclude": [
    "module",
    "function",
    "builtin_function_or_method",
    "instance",
    "_Feature"
   ],
   "window_display": false
  }
 },
 "nbformat": 4,
 "nbformat_minor": 2
}
