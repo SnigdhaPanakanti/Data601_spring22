{
 "cells": [
  {
   "cell_type": "code",
   "execution_count": null,
   "id": "ccd948fe",
   "metadata": {},
   "outputs": [],
   "source": [
    "import random \n",
    "import matplotlib.pyplot as plt\n",
    "\n",
    "trial_count = 500\n",
    "\n",
    "def fair_die_simulation(trials):\n",
    "    \"\"\"\n",
    "    returns an array of randomly numbers between 1 and 6. \n",
    "    \"\"\"\n",
    "    \n",
    "    options = [1,2,3,4,5,6]\n",
    "    simulations = []\n",
    "    return simulations"
   ]
  }
 ],
 "metadata": {
  "kernelspec": {
   "display_name": "Python 3 (ipykernel)",
   "language": "python",
   "name": "python3"
  },
  "language_info": {
   "codemirror_mode": {
    "name": "ipython",
    "version": 3
   },
   "file_extension": ".py",
   "mimetype": "text/x-python",
   "name": "python",
   "nbconvert_exporter": "python",
   "pygments_lexer": "ipython3",
   "version": "3.9.7"
  }
 },
 "nbformat": 4,
 "nbformat_minor": 5
}
