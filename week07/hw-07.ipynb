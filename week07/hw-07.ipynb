{
 "cells": [
  {
   "cell_type": "markdown",
   "metadata": {},
   "source": [
    "# Homework 7\n"
   ]
  },
  {
   "cell_type": "markdown",
   "metadata": {},
   "source": [
    "You are waiting on some datasets from different teams but the approval process may take some time. \n",
    "\n",
    "You have no intention to wait! You will generate some fake data to get started. \n",
    "\n",
    "Here are some info you expect from the management:\n",
    "* Employees dataset contains employee id, name, lastname, phone, state (~ 10K records) (Use states of US east coast only) \n",
    "* Salary dataset contains employee id, department id, yearly salary\n",
    "* Department dataset contains department id, department name (5-10 departments) \n",
    "\n",
    "Here are the questions expected to be answered:\n",
    "\n",
    "1. Visualize the average salary of each department\n",
    "1. Visualize the total number of employees living in each state for each department\n",
    "1. Visualize salary distribution of different states\n",
    "1. Visualize salary distribution of different departments\n",
    "\n",
    "You can use faker library (but you don't have to): https://faker.readthedocs.io/en/master/\n",
    "\n",
    "`Optional:` \n",
    "\n",
    "Try to make dataframes realistic. \n",
    "* Salary distribution as normal distribution\n",
    "* Salary of different states can be higher for 5-10K compared to other states\n"
   ]
  },
  {
   "cell_type": "code",
   "execution_count": 1,
   "metadata": {},
   "outputs": [
    {
     "name": "stdout",
     "output_type": "stream",
     "text": [
      "Requirement already satisfied: Faker in c:\\users\\krishna\\anaconda3\\lib\\site-packages (13.3.4)\n",
      "Requirement already satisfied: python-dateutil>=2.4 in c:\\users\\krishna\\anaconda3\\lib\\site-packages (from Faker) (2.8.2)\n",
      "Requirement already satisfied: six>=1.5 in c:\\users\\krishna\\anaconda3\\lib\\site-packages (from python-dateutil>=2.4->Faker) (1.16.0)\n",
      "Note: you may need to restart the kernel to use updated packages.\n"
     ]
    }
   ],
   "source": [
    "pip install Faker"
   ]
  },
  {
   "cell_type": "code",
   "execution_count": 2,
   "metadata": {},
   "outputs": [],
   "source": [
    "import random\n",
    "import pandas as pd\n",
    "import seaborn as sns\n",
    "from matplotlib import pyplot as plt"
   ]
  },
  {
   "cell_type": "code",
   "execution_count": 3,
   "metadata": {},
   "outputs": [],
   "source": [
    "from faker import Faker\n",
    "fake = Faker()"
   ]
  },
  {
   "cell_type": "markdown",
   "metadata": {},
   "source": [
    "### Generating datasets"
   ]
  },
  {
   "cell_type": "markdown",
   "metadata": {},
   "source": [
    "- #### Employee Dataset:"
   ]
  },
  {
   "cell_type": "code",
   "execution_count": 4,
   "metadata": {},
   "outputs": [],
   "source": [
    "name = [fake.first_name() for i in range(10000)]\n",
    "last_name = [fake.last_name() for i in range(10000)]\n",
    "employee_id = [fake.random_number(digits=5, fix_len=False) for i in range(10000)]\n",
    "phone_number = [fake.numerify('(%#%)#%#-#%#%') for i in range(10000)]\n"
   ]
  },
  {
   "cell_type": "code",
   "execution_count": 5,
   "metadata": {},
   "outputs": [],
   "source": [
    "state_list = ['Maine', 'New Hampshire', 'Vermont', 'Massachusetts', 'Rhode Island', 'Connecticut', 'New York',' New Jersey', 'Pennsylvania', 'Maryland', 'Delaware', 'Virginia', 'North Carolina', 'South Carolina', 'Georgia','Florida','Washington D.C']\n",
    "state = [random.choice(state_list) for i in range(10000)]"
   ]
  },
  {
   "cell_type": "code",
   "execution_count": 6,
   "metadata": {},
   "outputs": [
    {
     "data": {
      "text/html": [
       "<div>\n",
       "<style scoped>\n",
       "    .dataframe tbody tr th:only-of-type {\n",
       "        vertical-align: middle;\n",
       "    }\n",
       "\n",
       "    .dataframe tbody tr th {\n",
       "        vertical-align: top;\n",
       "    }\n",
       "\n",
       "    .dataframe thead th {\n",
       "        text-align: right;\n",
       "    }\n",
       "</style>\n",
       "<table border=\"1\" class=\"dataframe\">\n",
       "  <thead>\n",
       "    <tr style=\"text-align: right;\">\n",
       "      <th></th>\n",
       "      <th>Name</th>\n",
       "      <th>Last Name</th>\n",
       "      <th>Employee ID</th>\n",
       "      <th>Phone Number</th>\n",
       "      <th>State</th>\n",
       "    </tr>\n",
       "  </thead>\n",
       "  <tbody>\n",
       "    <tr>\n",
       "      <th>0</th>\n",
       "      <td>Jennifer</td>\n",
       "      <td>Acosta</td>\n",
       "      <td>13276</td>\n",
       "      <td>(918)131-3415</td>\n",
       "      <td>Rhode Island</td>\n",
       "    </tr>\n",
       "    <tr>\n",
       "      <th>1</th>\n",
       "      <td>John</td>\n",
       "      <td>Campbell</td>\n",
       "      <td>64430</td>\n",
       "      <td>(369)396-6868</td>\n",
       "      <td>Vermont</td>\n",
       "    </tr>\n",
       "    <tr>\n",
       "      <th>2</th>\n",
       "      <td>Tracy</td>\n",
       "      <td>Brown</td>\n",
       "      <td>37086</td>\n",
       "      <td>(512)512-0678</td>\n",
       "      <td>Washington D.C</td>\n",
       "    </tr>\n",
       "    <tr>\n",
       "      <th>3</th>\n",
       "      <td>Dale</td>\n",
       "      <td>Matthews</td>\n",
       "      <td>73741</td>\n",
       "      <td>(208)539-0204</td>\n",
       "      <td>Virginia</td>\n",
       "    </tr>\n",
       "    <tr>\n",
       "      <th>4</th>\n",
       "      <td>Sharon</td>\n",
       "      <td>Rollins</td>\n",
       "      <td>38302</td>\n",
       "      <td>(416)586-0321</td>\n",
       "      <td>Connecticut</td>\n",
       "    </tr>\n",
       "    <tr>\n",
       "      <th>...</th>\n",
       "      <td>...</td>\n",
       "      <td>...</td>\n",
       "      <td>...</td>\n",
       "      <td>...</td>\n",
       "      <td>...</td>\n",
       "    </tr>\n",
       "    <tr>\n",
       "      <th>9995</th>\n",
       "      <td>Theodore</td>\n",
       "      <td>King</td>\n",
       "      <td>50871</td>\n",
       "      <td>(151)448-2252</td>\n",
       "      <td>New Hampshire</td>\n",
       "    </tr>\n",
       "    <tr>\n",
       "      <th>9996</th>\n",
       "      <td>Felicia</td>\n",
       "      <td>Holmes</td>\n",
       "      <td>56610</td>\n",
       "      <td>(955)621-0421</td>\n",
       "      <td>North Carolina</td>\n",
       "    </tr>\n",
       "    <tr>\n",
       "      <th>9997</th>\n",
       "      <td>Angela</td>\n",
       "      <td>Sims</td>\n",
       "      <td>58644</td>\n",
       "      <td>(387)246-6558</td>\n",
       "      <td>Georgia</td>\n",
       "    </tr>\n",
       "    <tr>\n",
       "      <th>9998</th>\n",
       "      <td>Austin</td>\n",
       "      <td>Morse</td>\n",
       "      <td>78100</td>\n",
       "      <td>(259)727-4856</td>\n",
       "      <td>Maine</td>\n",
       "    </tr>\n",
       "    <tr>\n",
       "      <th>9999</th>\n",
       "      <td>Jessica</td>\n",
       "      <td>Zhang</td>\n",
       "      <td>14890</td>\n",
       "      <td>(739)043-0284</td>\n",
       "      <td>Georgia</td>\n",
       "    </tr>\n",
       "  </tbody>\n",
       "</table>\n",
       "<p>10000 rows × 5 columns</p>\n",
       "</div>"
      ],
      "text/plain": [
       "          Name Last Name  Employee ID   Phone Number           State\n",
       "0     Jennifer    Acosta        13276  (918)131-3415    Rhode Island\n",
       "1         John  Campbell        64430  (369)396-6868         Vermont\n",
       "2        Tracy     Brown        37086  (512)512-0678  Washington D.C\n",
       "3         Dale  Matthews        73741  (208)539-0204        Virginia\n",
       "4       Sharon   Rollins        38302  (416)586-0321     Connecticut\n",
       "...        ...       ...          ...            ...             ...\n",
       "9995  Theodore      King        50871  (151)448-2252   New Hampshire\n",
       "9996   Felicia    Holmes        56610  (955)621-0421  North Carolina\n",
       "9997    Angela      Sims        58644  (387)246-6558         Georgia\n",
       "9998    Austin     Morse        78100  (259)727-4856           Maine\n",
       "9999   Jessica     Zhang        14890  (739)043-0284         Georgia\n",
       "\n",
       "[10000 rows x 5 columns]"
      ]
     },
     "execution_count": 6,
     "metadata": {},
     "output_type": "execute_result"
    }
   ],
   "source": [
    "employee_data = {'Name' : name,\n",
    "                 'Last Name': last_name,\n",
    "                 'Employee ID' : employee_id,\n",
    "                 'Phone Number' : phone_number,\n",
    "                 'State' : state\n",
    "                }\n",
    "employee_dataset = pd.DataFrame(employee_data)\n",
    "\n",
    "employee_dataset"
   ]
  },
  {
   "cell_type": "markdown",
   "metadata": {},
   "source": [
    "- #### Salary Dataset:"
   ]
  },
  {
   "cell_type": "code",
   "execution_count": 7,
   "metadata": {},
   "outputs": [],
   "source": [
    "department_id = [fake.numerify('%#%##%') for i in range(10000)]\n",
    "#department_id = [fake.random_number(digits=6, fix_len = True) for i in range(10000)]\n",
    "\n",
    "salary = [fake.random_int(min=50000, max=150000, step = 100) for i in range(10000)]"
   ]
  },
  {
   "cell_type": "code",
   "execution_count": 8,
   "metadata": {},
   "outputs": [
    {
     "data": {
      "text/html": [
       "<div>\n",
       "<style scoped>\n",
       "    .dataframe tbody tr th:only-of-type {\n",
       "        vertical-align: middle;\n",
       "    }\n",
       "\n",
       "    .dataframe tbody tr th {\n",
       "        vertical-align: top;\n",
       "    }\n",
       "\n",
       "    .dataframe thead th {\n",
       "        text-align: right;\n",
       "    }\n",
       "</style>\n",
       "<table border=\"1\" class=\"dataframe\">\n",
       "  <thead>\n",
       "    <tr style=\"text-align: right;\">\n",
       "      <th></th>\n",
       "      <th>Employee ID</th>\n",
       "      <th>Department ID</th>\n",
       "      <th>Salary</th>\n",
       "    </tr>\n",
       "  </thead>\n",
       "  <tbody>\n",
       "    <tr>\n",
       "      <th>0</th>\n",
       "      <td>13276</td>\n",
       "      <td>138412</td>\n",
       "      <td>129800</td>\n",
       "    </tr>\n",
       "    <tr>\n",
       "      <th>1</th>\n",
       "      <td>64430</td>\n",
       "      <td>842011</td>\n",
       "      <td>111700</td>\n",
       "    </tr>\n",
       "    <tr>\n",
       "      <th>2</th>\n",
       "      <td>37086</td>\n",
       "      <td>144835</td>\n",
       "      <td>83800</td>\n",
       "    </tr>\n",
       "    <tr>\n",
       "      <th>3</th>\n",
       "      <td>73741</td>\n",
       "      <td>766437</td>\n",
       "      <td>95100</td>\n",
       "    </tr>\n",
       "    <tr>\n",
       "      <th>4</th>\n",
       "      <td>38302</td>\n",
       "      <td>711222</td>\n",
       "      <td>73500</td>\n",
       "    </tr>\n",
       "    <tr>\n",
       "      <th>...</th>\n",
       "      <td>...</td>\n",
       "      <td>...</td>\n",
       "      <td>...</td>\n",
       "    </tr>\n",
       "    <tr>\n",
       "      <th>9995</th>\n",
       "      <td>50871</td>\n",
       "      <td>188919</td>\n",
       "      <td>140200</td>\n",
       "    </tr>\n",
       "    <tr>\n",
       "      <th>9996</th>\n",
       "      <td>56610</td>\n",
       "      <td>136947</td>\n",
       "      <td>128200</td>\n",
       "    </tr>\n",
       "    <tr>\n",
       "      <th>9997</th>\n",
       "      <td>58644</td>\n",
       "      <td>123711</td>\n",
       "      <td>53300</td>\n",
       "    </tr>\n",
       "    <tr>\n",
       "      <th>9998</th>\n",
       "      <td>78100</td>\n",
       "      <td>478953</td>\n",
       "      <td>114400</td>\n",
       "    </tr>\n",
       "    <tr>\n",
       "      <th>9999</th>\n",
       "      <td>14890</td>\n",
       "      <td>971118</td>\n",
       "      <td>101700</td>\n",
       "    </tr>\n",
       "  </tbody>\n",
       "</table>\n",
       "<p>10000 rows × 3 columns</p>\n",
       "</div>"
      ],
      "text/plain": [
       "      Employee ID Department ID  Salary\n",
       "0           13276        138412  129800\n",
       "1           64430        842011  111700\n",
       "2           37086        144835   83800\n",
       "3           73741        766437   95100\n",
       "4           38302        711222   73500\n",
       "...           ...           ...     ...\n",
       "9995        50871        188919  140200\n",
       "9996        56610        136947  128200\n",
       "9997        58644        123711   53300\n",
       "9998        78100        478953  114400\n",
       "9999        14890        971118  101700\n",
       "\n",
       "[10000 rows x 3 columns]"
      ]
     },
     "execution_count": 8,
     "metadata": {},
     "output_type": "execute_result"
    }
   ],
   "source": [
    "salary_data = {'Employee ID' : employee_id,\n",
    "               'Department ID' : department_id,\n",
    "               'Salary' : salary\n",
    "              \n",
    "              }\n",
    "\n",
    "salary_dataset = pd.DataFrame(salary_data)\n",
    "\n",
    "salary_dataset"
   ]
  },
  {
   "cell_type": "markdown",
   "metadata": {},
   "source": [
    "- #### Department Dataset:"
   ]
  },
  {
   "cell_type": "code",
   "execution_count": 9,
   "metadata": {},
   "outputs": [
    {
     "data": {
      "text/html": [
       "<div>\n",
       "<style scoped>\n",
       "    .dataframe tbody tr th:only-of-type {\n",
       "        vertical-align: middle;\n",
       "    }\n",
       "\n",
       "    .dataframe tbody tr th {\n",
       "        vertical-align: top;\n",
       "    }\n",
       "\n",
       "    .dataframe thead th {\n",
       "        text-align: right;\n",
       "    }\n",
       "</style>\n",
       "<table border=\"1\" class=\"dataframe\">\n",
       "  <thead>\n",
       "    <tr style=\"text-align: right;\">\n",
       "      <th></th>\n",
       "      <th>Department ID</th>\n",
       "      <th>Department_Name</th>\n",
       "    </tr>\n",
       "  </thead>\n",
       "  <tbody>\n",
       "    <tr>\n",
       "      <th>0</th>\n",
       "      <td>138412</td>\n",
       "      <td>Energy</td>\n",
       "    </tr>\n",
       "    <tr>\n",
       "      <th>1</th>\n",
       "      <td>842011</td>\n",
       "      <td>Art</td>\n",
       "    </tr>\n",
       "    <tr>\n",
       "      <th>2</th>\n",
       "      <td>144835</td>\n",
       "      <td>Transportation</td>\n",
       "    </tr>\n",
       "    <tr>\n",
       "      <th>3</th>\n",
       "      <td>766437</td>\n",
       "      <td>Art</td>\n",
       "    </tr>\n",
       "    <tr>\n",
       "      <th>4</th>\n",
       "      <td>711222</td>\n",
       "      <td>Economic Affairs</td>\n",
       "    </tr>\n",
       "    <tr>\n",
       "      <th>...</th>\n",
       "      <td>...</td>\n",
       "      <td>...</td>\n",
       "    </tr>\n",
       "    <tr>\n",
       "      <th>9995</th>\n",
       "      <td>188919</td>\n",
       "      <td>Education</td>\n",
       "    </tr>\n",
       "    <tr>\n",
       "      <th>9996</th>\n",
       "      <td>136947</td>\n",
       "      <td>Housing &amp; Urban Development</td>\n",
       "    </tr>\n",
       "    <tr>\n",
       "      <th>9997</th>\n",
       "      <td>123711</td>\n",
       "      <td>Health &amp; Human Services</td>\n",
       "    </tr>\n",
       "    <tr>\n",
       "      <th>9998</th>\n",
       "      <td>478953</td>\n",
       "      <td>Energy</td>\n",
       "    </tr>\n",
       "    <tr>\n",
       "      <th>9999</th>\n",
       "      <td>971118</td>\n",
       "      <td>Economic Affairs</td>\n",
       "    </tr>\n",
       "  </tbody>\n",
       "</table>\n",
       "<p>10000 rows × 2 columns</p>\n",
       "</div>"
      ],
      "text/plain": [
       "     Department ID              Department_Name\n",
       "0           138412                       Energy\n",
       "1           842011                          Art\n",
       "2           144835               Transportation\n",
       "3           766437                          Art\n",
       "4           711222             Economic Affairs\n",
       "...            ...                          ...\n",
       "9995        188919                    Education\n",
       "9996        136947  Housing & Urban Development\n",
       "9997        123711      Health & Human Services\n",
       "9998        478953                       Energy\n",
       "9999        971118             Economic Affairs\n",
       "\n",
       "[10000 rows x 2 columns]"
      ]
     },
     "execution_count": 9,
     "metadata": {},
     "output_type": "execute_result"
    }
   ],
   "source": [
    "department_list = ['Education', 'Energy', 'Health & Human Services', 'Art', 'Housing & Urban Development', 'Economic Affairs', 'Defense','Transportation']\n",
    "department_name = [random.choice(department_list) for i in range(10000)]\n",
    "department_data = { 'Department ID' : department_id,\n",
    "                   'Department_Name' : department_name\n",
    "                  }\n",
    "department_dataset = pd.DataFrame(department_data)\n",
    "\n",
    "department_dataset"
   ]
  },
  {
   "cell_type": "code",
   "execution_count": 10,
   "metadata": {},
   "outputs": [
    {
     "data": {
      "text/html": [
       "<div>\n",
       "<style scoped>\n",
       "    .dataframe tbody tr th:only-of-type {\n",
       "        vertical-align: middle;\n",
       "    }\n",
       "\n",
       "    .dataframe tbody tr th {\n",
       "        vertical-align: top;\n",
       "    }\n",
       "\n",
       "    .dataframe thead th {\n",
       "        text-align: right;\n",
       "    }\n",
       "</style>\n",
       "<table border=\"1\" class=\"dataframe\">\n",
       "  <thead>\n",
       "    <tr style=\"text-align: right;\">\n",
       "      <th></th>\n",
       "      <th>Name</th>\n",
       "      <th>Last Name</th>\n",
       "      <th>Employee ID</th>\n",
       "      <th>Phone Number</th>\n",
       "      <th>State</th>\n",
       "      <th>Department ID</th>\n",
       "      <th>Salary</th>\n",
       "      <th>Department_Name</th>\n",
       "    </tr>\n",
       "  </thead>\n",
       "  <tbody>\n",
       "    <tr>\n",
       "      <th>0</th>\n",
       "      <td>Jennifer</td>\n",
       "      <td>Acosta</td>\n",
       "      <td>13276</td>\n",
       "      <td>(918)131-3415</td>\n",
       "      <td>Rhode Island</td>\n",
       "      <td>138412</td>\n",
       "      <td>129800</td>\n",
       "      <td>Energy</td>\n",
       "    </tr>\n",
       "    <tr>\n",
       "      <th>1</th>\n",
       "      <td>Alicia</td>\n",
       "      <td>Torres</td>\n",
       "      <td>52064</td>\n",
       "      <td>(966)561-0947</td>\n",
       "      <td>Florida</td>\n",
       "      <td>138412</td>\n",
       "      <td>67400</td>\n",
       "      <td>Energy</td>\n",
       "    </tr>\n",
       "    <tr>\n",
       "      <th>2</th>\n",
       "      <td>John</td>\n",
       "      <td>Campbell</td>\n",
       "      <td>64430</td>\n",
       "      <td>(369)396-6868</td>\n",
       "      <td>Vermont</td>\n",
       "      <td>842011</td>\n",
       "      <td>111700</td>\n",
       "      <td>Art</td>\n",
       "    </tr>\n",
       "    <tr>\n",
       "      <th>3</th>\n",
       "      <td>Tracy</td>\n",
       "      <td>Brown</td>\n",
       "      <td>37086</td>\n",
       "      <td>(512)512-0678</td>\n",
       "      <td>Washington D.C</td>\n",
       "      <td>144835</td>\n",
       "      <td>83800</td>\n",
       "      <td>Transportation</td>\n",
       "    </tr>\n",
       "    <tr>\n",
       "      <th>4</th>\n",
       "      <td>Chris</td>\n",
       "      <td>Burns</td>\n",
       "      <td>37086</td>\n",
       "      <td>(121)554-8954</td>\n",
       "      <td>Rhode Island</td>\n",
       "      <td>144835</td>\n",
       "      <td>83800</td>\n",
       "      <td>Transportation</td>\n",
       "    </tr>\n",
       "    <tr>\n",
       "      <th>...</th>\n",
       "      <td>...</td>\n",
       "      <td>...</td>\n",
       "      <td>...</td>\n",
       "      <td>...</td>\n",
       "      <td>...</td>\n",
       "      <td>...</td>\n",
       "      <td>...</td>\n",
       "      <td>...</td>\n",
       "    </tr>\n",
       "    <tr>\n",
       "      <th>11052</th>\n",
       "      <td>Theodore</td>\n",
       "      <td>King</td>\n",
       "      <td>50871</td>\n",
       "      <td>(151)448-2252</td>\n",
       "      <td>New Hampshire</td>\n",
       "      <td>188919</td>\n",
       "      <td>140200</td>\n",
       "      <td>Education</td>\n",
       "    </tr>\n",
       "    <tr>\n",
       "      <th>11053</th>\n",
       "      <td>Felicia</td>\n",
       "      <td>Holmes</td>\n",
       "      <td>56610</td>\n",
       "      <td>(955)621-0421</td>\n",
       "      <td>North Carolina</td>\n",
       "      <td>136947</td>\n",
       "      <td>128200</td>\n",
       "      <td>Housing &amp; Urban Development</td>\n",
       "    </tr>\n",
       "    <tr>\n",
       "      <th>11054</th>\n",
       "      <td>Angela</td>\n",
       "      <td>Sims</td>\n",
       "      <td>58644</td>\n",
       "      <td>(387)246-6558</td>\n",
       "      <td>Georgia</td>\n",
       "      <td>123711</td>\n",
       "      <td>53300</td>\n",
       "      <td>Health &amp; Human Services</td>\n",
       "    </tr>\n",
       "    <tr>\n",
       "      <th>11055</th>\n",
       "      <td>Austin</td>\n",
       "      <td>Morse</td>\n",
       "      <td>78100</td>\n",
       "      <td>(259)727-4856</td>\n",
       "      <td>Maine</td>\n",
       "      <td>478953</td>\n",
       "      <td>114400</td>\n",
       "      <td>Energy</td>\n",
       "    </tr>\n",
       "    <tr>\n",
       "      <th>11056</th>\n",
       "      <td>Jessica</td>\n",
       "      <td>Zhang</td>\n",
       "      <td>14890</td>\n",
       "      <td>(739)043-0284</td>\n",
       "      <td>Georgia</td>\n",
       "      <td>971118</td>\n",
       "      <td>101700</td>\n",
       "      <td>Economic Affairs</td>\n",
       "    </tr>\n",
       "  </tbody>\n",
       "</table>\n",
       "<p>11057 rows × 8 columns</p>\n",
       "</div>"
      ],
      "text/plain": [
       "           Name Last Name  Employee ID   Phone Number           State  \\\n",
       "0      Jennifer    Acosta        13276  (918)131-3415    Rhode Island   \n",
       "1        Alicia    Torres        52064  (966)561-0947         Florida   \n",
       "2          John  Campbell        64430  (369)396-6868         Vermont   \n",
       "3         Tracy     Brown        37086  (512)512-0678  Washington D.C   \n",
       "4         Chris     Burns        37086  (121)554-8954    Rhode Island   \n",
       "...         ...       ...          ...            ...             ...   \n",
       "11052  Theodore      King        50871  (151)448-2252   New Hampshire   \n",
       "11053   Felicia    Holmes        56610  (955)621-0421  North Carolina   \n",
       "11054    Angela      Sims        58644  (387)246-6558         Georgia   \n",
       "11055    Austin     Morse        78100  (259)727-4856           Maine   \n",
       "11056   Jessica     Zhang        14890  (739)043-0284         Georgia   \n",
       "\n",
       "      Department ID  Salary              Department_Name  \n",
       "0            138412  129800                       Energy  \n",
       "1            138412   67400                       Energy  \n",
       "2            842011  111700                          Art  \n",
       "3            144835   83800               Transportation  \n",
       "4            144835   83800               Transportation  \n",
       "...             ...     ...                          ...  \n",
       "11052        188919  140200                    Education  \n",
       "11053        136947  128200  Housing & Urban Development  \n",
       "11054        123711   53300      Health & Human Services  \n",
       "11055        478953  114400                       Energy  \n",
       "11056        971118  101700             Economic Affairs  \n",
       "\n",
       "[11057 rows x 8 columns]"
      ]
     },
     "execution_count": 10,
     "metadata": {},
     "output_type": "execute_result"
    }
   ],
   "source": [
    "Emp_Sal = employee_dataset.merge(salary_dataset, how='right')\n",
    "Data = Emp_Sal.merge(department_dataset, how='right')\n",
    "\n",
    "Data"
   ]
  },
  {
   "cell_type": "markdown",
   "metadata": {},
   "source": [
    "### Visualisations"
   ]
  },
  {
   "cell_type": "markdown",
   "metadata": {},
   "source": [
    "- #### Average salary of each department: "
   ]
  },
  {
   "cell_type": "code",
   "execution_count": 11,
   "metadata": {},
   "outputs": [
    {
     "data": {
      "text/html": [
       "<div>\n",
       "<style scoped>\n",
       "    .dataframe tbody tr th:only-of-type {\n",
       "        vertical-align: middle;\n",
       "    }\n",
       "\n",
       "    .dataframe tbody tr th {\n",
       "        vertical-align: top;\n",
       "    }\n",
       "\n",
       "    .dataframe thead th {\n",
       "        text-align: right;\n",
       "    }\n",
       "</style>\n",
       "<table border=\"1\" class=\"dataframe\">\n",
       "  <thead>\n",
       "    <tr style=\"text-align: right;\">\n",
       "      <th></th>\n",
       "      <th>Department_Name</th>\n",
       "      <th>Average_Salary</th>\n",
       "    </tr>\n",
       "  </thead>\n",
       "  <tbody>\n",
       "    <tr>\n",
       "      <th>0</th>\n",
       "      <td>Art</td>\n",
       "      <td>99241.330502</td>\n",
       "    </tr>\n",
       "    <tr>\n",
       "      <th>1</th>\n",
       "      <td>Defense</td>\n",
       "      <td>100657.109915</td>\n",
       "    </tr>\n",
       "    <tr>\n",
       "      <th>2</th>\n",
       "      <td>Economic Affairs</td>\n",
       "      <td>101010.318021</td>\n",
       "    </tr>\n",
       "    <tr>\n",
       "      <th>3</th>\n",
       "      <td>Education</td>\n",
       "      <td>101062.446352</td>\n",
       "    </tr>\n",
       "    <tr>\n",
       "      <th>4</th>\n",
       "      <td>Energy</td>\n",
       "      <td>101363.011696</td>\n",
       "    </tr>\n",
       "    <tr>\n",
       "      <th>5</th>\n",
       "      <td>Health &amp; Human Services</td>\n",
       "      <td>100358.625954</td>\n",
       "    </tr>\n",
       "    <tr>\n",
       "      <th>6</th>\n",
       "      <td>Housing &amp; Urban Development</td>\n",
       "      <td>98467.842324</td>\n",
       "    </tr>\n",
       "    <tr>\n",
       "      <th>7</th>\n",
       "      <td>Transportation</td>\n",
       "      <td>99288.122333</td>\n",
       "    </tr>\n",
       "  </tbody>\n",
       "</table>\n",
       "</div>"
      ],
      "text/plain": [
       "               Department_Name  Average_Salary\n",
       "0                          Art    99241.330502\n",
       "1                      Defense   100657.109915\n",
       "2             Economic Affairs   101010.318021\n",
       "3                    Education   101062.446352\n",
       "4                       Energy   101363.011696\n",
       "5      Health & Human Services   100358.625954\n",
       "6  Housing & Urban Development    98467.842324\n",
       "7               Transportation    99288.122333"
      ]
     },
     "execution_count": 11,
     "metadata": {},
     "output_type": "execute_result"
    }
   ],
   "source": [
    "a = Data.groupby(['Department_Name']).agg(\n",
    "    Average_Salary = ('Salary', 'mean')\n",
    "    )\n",
    "a = a.reset_index(drop=False)\n",
    "a"
   ]
  },
  {
   "cell_type": "code",
   "execution_count": 12,
   "metadata": {},
   "outputs": [
    {
     "data": {
      "image/png": "[encoded data removed]",
      "text/plain": [
       "<Figure size 1800x720 with 1 Axes>"
      ]
     },
     "metadata": {
      "needs_background": "light"
     },
     "output_type": "display_data"
    }
   ],
   "source": [
    "plt.figure(figsize = (25,10))\n",
    "plt.bar(a[\"Department_Name\"], a[\"Average_Salary\"])\n",
    "plt.xlabel(\"Department Name\")\n",
    "plt.ylabel(\"Average Salary\")\n",
    "plt.title(\"Average Salary for each department\")\n",
    "plt.show()"
   ]
  },
  {
   "cell_type": "markdown",
   "metadata": {},
   "source": [
    "- #### Total number of employees living in each state for each department: "
   ]
  },
  {
   "cell_type": "code",
   "execution_count": 13,
   "metadata": {},
   "outputs": [
    {
     "data": {
      "text/html": [
       "<div>\n",
       "<style scoped>\n",
       "    .dataframe tbody tr th:only-of-type {\n",
       "        vertical-align: middle;\n",
       "    }\n",
       "\n",
       "    .dataframe tbody tr th {\n",
       "        vertical-align: top;\n",
       "    }\n",
       "\n",
       "    .dataframe thead th {\n",
       "        text-align: right;\n",
       "    }\n",
       "</style>\n",
       "<table border=\"1\" class=\"dataframe\">\n",
       "  <thead>\n",
       "    <tr style=\"text-align: right;\">\n",
       "      <th></th>\n",
       "      <th>State</th>\n",
       "      <th>Department_Name</th>\n",
       "      <th>No_of_employees</th>\n",
       "    </tr>\n",
       "  </thead>\n",
       "  <tbody>\n",
       "    <tr>\n",
       "      <th>0</th>\n",
       "      <td>New Jersey</td>\n",
       "      <td>Art</td>\n",
       "      <td>77</td>\n",
       "    </tr>\n",
       "    <tr>\n",
       "      <th>1</th>\n",
       "      <td>New Jersey</td>\n",
       "      <td>Defense</td>\n",
       "      <td>87</td>\n",
       "    </tr>\n",
       "    <tr>\n",
       "      <th>2</th>\n",
       "      <td>New Jersey</td>\n",
       "      <td>Economic Affairs</td>\n",
       "      <td>79</td>\n",
       "    </tr>\n",
       "    <tr>\n",
       "      <th>3</th>\n",
       "      <td>New Jersey</td>\n",
       "      <td>Education</td>\n",
       "      <td>94</td>\n",
       "    </tr>\n",
       "    <tr>\n",
       "      <th>4</th>\n",
       "      <td>New Jersey</td>\n",
       "      <td>Energy</td>\n",
       "      <td>84</td>\n",
       "    </tr>\n",
       "    <tr>\n",
       "      <th>...</th>\n",
       "      <td>...</td>\n",
       "      <td>...</td>\n",
       "      <td>...</td>\n",
       "    </tr>\n",
       "    <tr>\n",
       "      <th>131</th>\n",
       "      <td>Washington D.C</td>\n",
       "      <td>Education</td>\n",
       "      <td>81</td>\n",
       "    </tr>\n",
       "    <tr>\n",
       "      <th>132</th>\n",
       "      <td>Washington D.C</td>\n",
       "      <td>Energy</td>\n",
       "      <td>70</td>\n",
       "    </tr>\n",
       "    <tr>\n",
       "      <th>133</th>\n",
       "      <td>Washington D.C</td>\n",
       "      <td>Health &amp; Human Services</td>\n",
       "      <td>85</td>\n",
       "    </tr>\n",
       "    <tr>\n",
       "      <th>134</th>\n",
       "      <td>Washington D.C</td>\n",
       "      <td>Housing &amp; Urban Development</td>\n",
       "      <td>89</td>\n",
       "    </tr>\n",
       "    <tr>\n",
       "      <th>135</th>\n",
       "      <td>Washington D.C</td>\n",
       "      <td>Transportation</td>\n",
       "      <td>103</td>\n",
       "    </tr>\n",
       "  </tbody>\n",
       "</table>\n",
       "<p>136 rows × 3 columns</p>\n",
       "</div>"
      ],
      "text/plain": [
       "              State              Department_Name  No_of_employees\n",
       "0        New Jersey                          Art               77\n",
       "1        New Jersey                      Defense               87\n",
       "2        New Jersey             Economic Affairs               79\n",
       "3        New Jersey                    Education               94\n",
       "4        New Jersey                       Energy               84\n",
       "..              ...                          ...              ...\n",
       "131  Washington D.C                    Education               81\n",
       "132  Washington D.C                       Energy               70\n",
       "133  Washington D.C      Health & Human Services               85\n",
       "134  Washington D.C  Housing & Urban Development               89\n",
       "135  Washington D.C               Transportation              103\n",
       "\n",
       "[136 rows x 3 columns]"
      ]
     },
     "execution_count": 13,
     "metadata": {},
     "output_type": "execute_result"
    }
   ],
   "source": [
    "b = Data.groupby(['State','Department_Name']).agg(\n",
    "    No_of_employees = ('Name', 'count')\n",
    "    )\n",
    "b = b.reset_index(drop=False)\n",
    "b"
   ]
  },
  {
   "cell_type": "code",
   "execution_count": 14,
   "metadata": {},
   "outputs": [
    {
     "data": {
      "image/png": "[encoded data removed]",
      "text/plain": [
       "<Figure size 1800x720 with 1 Axes>"
      ]
     },
     "metadata": {
      "needs_background": "light"
     },
     "output_type": "display_data"
    }
   ],
   "source": [
    "plt.figure(figsize = (25,10))\n",
    "plt.bar(b[\"Department_Name\"], b[\"No_of_employees\"])\n",
    "plt.xlabel(\"Department Name\",)\n",
    "plt.ylabel(\"Average Salary\")\n",
    "plt.title(\"Average Salary for each department\")\n",
    "plt.show()"
   ]
  },
  {
   "cell_type": "code",
   "execution_count": 15,
   "metadata": {},
   "outputs": [
    {
     "data": {
      "image/png": "[encoded data removed]",
      "text/plain": [
       "<Figure size 455.375x360 with 40 Axes>"
      ]
     },
     "metadata": {
      "needs_background": "light"
     },
     "output_type": "display_data"
    }
   ],
   "source": [
    "plot = sns.displot(b, x=\"Department_Name\", y=\"State\", hue = 'No_of_employees', cbar = True )\n",
    "plot.ax.tick_params(labelrotation = 0)"
   ]
  },
  {
   "cell_type": "code",
   "execution_count": 16,
   "metadata": {},
   "outputs": [
    {
     "data": {
      "image/png": "[encoded data removed]",
      "text/plain": [
       "<Figure size 432x288 with 1 Axes>"
      ]
     },
     "metadata": {
      "needs_background": "light"
     },
     "output_type": "display_data"
    }
   ],
   "source": [
    "b1 = b.Department_Name\n",
    "b2 = b.State\n",
    "h = b.No_of_employees\n",
    "plot = sns.scatterplot(x= h, y = b2, hue = b1, alpha = 0.5)"
   ]
  },
  {
   "cell_type": "markdown",
   "metadata": {},
   "source": [
    "- #### Salary distribution of different states: "
   ]
  },
  {
   "cell_type": "code",
   "execution_count": 17,
   "metadata": {},
   "outputs": [
    {
     "data": {
      "image/png": "[encoded data removed]",
      "text/plain": [
       "<Figure size 360x360 with 2 Axes>"
      ]
     },
     "metadata": {
      "needs_background": "light"
     },
     "output_type": "display_data"
    }
   ],
   "source": [
    "plot = sns.displot(Data, x=\"Salary\", y=\"State\", cbar = True)\n",
    "plot.ax.tick_params(labelrotation = 0)"
   ]
  },
  {
   "cell_type": "markdown",
   "metadata": {},
   "source": [
    "- #### Salary distribution of different departments:"
   ]
  },
  {
   "cell_type": "code",
   "execution_count": 18,
   "metadata": {},
   "outputs": [
    {
     "data": {
      "image/png": "[encoded data removed]",
      "text/plain": [
       "<Figure size 360x360 with 2 Axes>"
      ]
     },
     "metadata": {
      "needs_background": "light"
     },
     "output_type": "display_data"
    }
   ],
   "source": [
    "plot = sns.displot(Data, x=\"Salary\", y=\"Department_Name\", cbar = True)\n",
    "plot.ax.tick_params(labelrotation = 0)"
   ]
  },
  {
   "cell_type": "code",
   "execution_count": null,
   "metadata": {},
   "outputs": [],
   "source": []
  }
 ],
 "metadata": {
  "kernelspec": {
   "display_name": "Python 3 (ipykernel)",
   "language": "python",
   "name": "python3"
  },
  "language_info": {
   "codemirror_mode": {
    "name": "ipython",
    "version": 3
   },
   "file_extension": ".py",
   "mimetype": "text/x-python",
   "name": "python",
   "nbconvert_exporter": "python",
   "pygments_lexer": "ipython3",
   "version": "3.9.7"
  },
  "toc": {
   "base_numbering": 1,
   "nav_menu": {},
   "number_sections": true,
   "sideBar": true,
   "skip_h1_title": false,
   "title_cell": "Table of Contents",
   "title_sidebar": "Contents",
   "toc_cell": false,
   "toc_position": {},
   "toc_section_display": true,
   "toc_window_display": false
  },
  "varInspector": {
   "cols": {
    "lenName": 16,
    "lenType": 16,
    "lenVar": 40
   },
   "kernels_config": {
    "python": {
     "delete_cmd_postfix": "",
     "delete_cmd_prefix": "del ",
     "library": "var_list.py",
     "varRefreshCmd": "print(var_dic_list())"
    },
    "r": {
     "delete_cmd_postfix": ") ",
     "delete_cmd_prefix": "rm(",
     "library": "var_list.r",
     "varRefreshCmd": "cat(var_dic_list()) "
    }
   },
   "types_to_exclude": [
    "module",
    "function",
    "builtin_function_or_method",
    "instance",
    "_Feature"
   ],
   "window_display": false
  }
 },
 "nbformat": 4,
 "nbformat_minor": 2
}
