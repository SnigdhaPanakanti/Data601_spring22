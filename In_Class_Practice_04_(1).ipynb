{
  "nbformat": 4,
  "nbformat_minor": 0,
  "metadata": {
    "colab": {
      "name": "In-Class_Practice_04 (1).ipynb",
      "provenance": [],
      "authorship_tag": "ABX9TyOJcYFEWacqWVhXIkrEwE1m",
      "include_colab_link": true
    },
    "kernelspec": {
      "name": "python3",
      "display_name": "Python 3"
    },
    "language_info": {
      "name": "python"
    }
  },
  "cells": [
    {
      "cell_type": "markdown",
      "metadata": {
        "id": "view-in-github",
        "colab_type": "text"
      },
      "source": [
        "<a href=\"https://colab.research.google.com/github/SnigdhaPanakanti/Data601_spring22/blob/main/In_Class_Practice_04_(1).ipynb\" target=\"_parent\"><img src=\"https://colab.research.google.com/assets/colab-badge.svg\" alt=\"Open In Colab\"/></a>"
      ]
    },
    {
      "cell_type": "markdown",
      "source": [
        "# In-Class Practice\n",
        "\n",
        "- Date: 02/21/2021\n",
        "- Name: Snigdha Panakanti"
      ],
      "metadata": {
        "id": "kOwr8gJF0f-f"
      }
    },
    {
      "cell_type": "markdown",
      "source": [
        "### Assignment-03 work:"
      ],
      "metadata": {
        "id": "8oifTOAV04es"
      }
    },
    {
      "cell_type": "code",
      "execution_count": null,
      "metadata": {
        "colab": {
          "base_uri": "https://localhost:8080/"
        },
        "id": "Z12rmIFf0Tbn",
        "outputId": "32bcdef1-9299-4a92-84d2-76427c1db8d4"
      },
      "outputs": [
        {
          "output_type": "stream",
          "name": "stdout",
          "text": [
            "\n",
            " @ 6 6 6 8 8 8 @ @ @ \n",
            " @ 2 8 4 0 8 @ @ @ @ \n",
            " @ 0 6 8 @ @ 6 @ 0 @ \n",
            " @ 4 @ 4 @ @ 4 @ 8 2 \n",
            " 0 2 @ @ @ 2 2 @ 4 @ \n",
            " 4 @ 6 @ 2 6 @ @ 2 @ \n",
            " 0 @ @ @ 8 8 @ 8 @ @ \n",
            " @ @ 6 0 4 @ @ @ 6 @ \n",
            " 6 @ 0 @ 2 @ @ 6 6 @ \n",
            " @ @ 2 8 0 4 @ @ 4 0 "
          ]
        }
      ],
      "source": [
        "import random\n",
        "import re\n",
        "for i in range(0,10):\n",
        "    print(end=\"\\n \")\n",
        "    for j in range(0,10):\n",
        "        num=random.randint(0,9)\n",
        "        if (num % 2) == 0:\n",
        "            print(num, end=\" \")\n",
        "        else:\n",
        "            strnum = str(num)\n",
        "            strnum=strnum.replace(strnum,\"@\")\n",
        "            print(strnum, end=\" \")"
      ]
    },
    {
      "cell_type": "code",
      "source": [
        "x = \"Hello Wporld!\"\n",
        "\n",
        "print(x)"
      ],
      "metadata": {
        "colab": {
          "base_uri": "https://localhost:8080/"
        },
        "id": "ahwFhw7v1Vyy",
        "outputId": "04d06041-1a95-4f11-b758-9acfc9d2dbb8"
      },
      "execution_count": null,
      "outputs": [
        {
          "output_type": "stream",
          "name": "stdout",
          "text": [
            "Hello Wporld!\n"
          ]
        }
      ]
    },
    {
      "cell_type": "code",
      "source": [
        "x = x.replace(\"p\",\"\")\n",
        "print(x)"
      ],
      "metadata": {
        "colab": {
          "base_uri": "https://localhost:8080/"
        },
        "id": "8KNXI5HZ1bSC",
        "outputId": "b5f7288a-6a76-4a0e-e66a-1f4b14427a12"
      },
      "execution_count": null,
      "outputs": [
        {
          "output_type": "stream",
          "name": "stdout",
          "text": [
            "hi world!\n"
          ]
        }
      ]
    },
    {
      "cell_type": "code",
      "source": [
        "x = x.replace(\"Hello\", \"Hi\")\n",
        "print(x)"
      ],
      "metadata": {
        "colab": {
          "base_uri": "https://localhost:8080/"
        },
        "id": "AJ9fGjhX1geS",
        "outputId": "878e58f5-2834-45ae-eadd-fe22c551be2c"
      },
      "execution_count": null,
      "outputs": [
        {
          "output_type": "stream",
          "name": "stdout",
          "text": [
            "Hi Wporld!\n"
          ]
        }
      ]
    },
    {
      "cell_type": "code",
      "source": [
        "#To change the string into uppercase\n",
        "x = x.upper()\n",
        "\n",
        "print(x)"
      ],
      "metadata": {
        "colab": {
          "base_uri": "https://localhost:8080/"
        },
        "id": "2Ef25ogz1nY7",
        "outputId": "8f127885-845a-4968-ca69-0f0fed8192a1"
      },
      "execution_count": null,
      "outputs": [
        {
          "output_type": "stream",
          "name": "stdout",
          "text": [
            "HI WORLD!\n"
          ]
        }
      ]
    },
    {
      "cell_type": "code",
      "source": [
        "#To change the string into lowercase\n",
        "x = x.lower()\n",
        "print(x)"
      ],
      "metadata": {
        "colab": {
          "base_uri": "https://localhost:8080/"
        },
        "id": "ndeRVVT-2aZx",
        "outputId": "08c1b735-8f76-47a5-f170-3e905f9cefcb"
      },
      "execution_count": null,
      "outputs": [
        {
          "output_type": "stream",
          "name": "stdout",
          "text": [
            "hi world!\n"
          ]
        }
      ]
    },
    {
      "cell_type": "markdown",
      "source": [
        "### * String functions/methods/operations:"
      ],
      "metadata": {
        "id": "Rz8vZ_9c29fc"
      }
    },
    {
      "cell_type": "markdown",
      "source": [
        "- upper()\n",
        "- lower()\n",
        "- strip()\n",
        "- lstrip()\n",
        "- rstrip()"
      ],
      "metadata": {
        "id": "AkS6m8i33HTv"
      }
    },
    {
      "cell_type": "code",
      "source": [
        "# Generate 100 numbers first\n",
        "num = []\n",
        "for i in range(100):\n",
        "    num.append(random.randint(0,9))\n",
        "\n",
        "print(num)\n",
        "print(len(num))"
      ],
      "metadata": {
        "colab": {
          "base_uri": "https://localhost:8080/"
        },
        "id": "XESKngyP24pW",
        "outputId": "e7312679-c4c8-4a27-b4cf-4fa68825ba61"
      },
      "execution_count": null,
      "outputs": [
        {
          "output_type": "stream",
          "name": "stdout",
          "text": [
            "[3, 9, 1, 2, 7, 8, 5, 9, 9, 8, 1, 7, 4, 9, 9, 3, 1, 8, 7, 3, 8, 7, 4, 5, 6, 3, 7, 4, 9, 9, 7, 2, 8, 2, 6, 3, 0, 9, 0, 5, 7, 1, 5, 8, 8, 8, 7, 9, 6, 8, 3, 5, 9, 7, 9, 6, 5, 3, 5, 6, 7, 6, 8, 4, 4, 8, 9, 4, 8, 4, 2, 2, 3, 2, 6, 1, 5, 7, 1, 6, 4, 2, 0, 8, 7, 3, 6, 3, 9, 3, 1, 6, 6, 7, 0, 1, 4, 0, 6, 7]\n",
            "100\n"
          ]
        }
      ]
    },
    {
      "cell_type": "code",
      "source": [
        "print(num[6])"
      ],
      "metadata": {
        "colab": {
          "base_uri": "https://localhost:8080/"
        },
        "id": "prgKg6ML4hxC",
        "outputId": "b6e32264-5c7b-4020-aa2a-01360f3f199c"
      },
      "execution_count": null,
      "outputs": [
        {
          "output_type": "stream",
          "name": "stdout",
          "text": [
            "5\n"
          ]
        }
      ]
    },
    {
      "cell_type": "code",
      "source": [
        "for i in range(100):\n",
        "    print(\"Index:\",i,\"Member:\",num[i])"
      ],
      "metadata": {
        "colab": {
          "base_uri": "https://localhost:8080/"
        },
        "id": "t1G8b1ny5TuY",
        "outputId": "190f0e4d-55a4-4ec9-f98f-1eb201ac48de"
      },
      "execution_count": null,
      "outputs": [
        {
          "output_type": "stream",
          "name": "stdout",
          "text": [
            "Index: 0 Member: 3\n",
            "Index: 1 Member: 9\n",
            "Index: 2 Member: 1\n",
            "Index: 3 Member: 2\n",
            "Index: 4 Member: 7\n",
            "Index: 5 Member: 8\n",
            "Index: 6 Member: 5\n",
            "Index: 7 Member: 9\n",
            "Index: 8 Member: 9\n",
            "Index: 9 Member: 8\n",
            "Index: 10 Member: 1\n",
            "Index: 11 Member: 7\n",
            "Index: 12 Member: 4\n",
            "Index: 13 Member: 9\n",
            "Index: 14 Member: 9\n",
            "Index: 15 Member: 3\n",
            "Index: 16 Member: 1\n",
            "Index: 17 Member: 8\n",
            "Index: 18 Member: 7\n",
            "Index: 19 Member: 3\n",
            "Index: 20 Member: 8\n",
            "Index: 21 Member: 7\n",
            "Index: 22 Member: 4\n",
            "Index: 23 Member: 5\n",
            "Index: 24 Member: 6\n",
            "Index: 25 Member: 3\n",
            "Index: 26 Member: 7\n",
            "Index: 27 Member: 4\n",
            "Index: 28 Member: 9\n",
            "Index: 29 Member: 9\n",
            "Index: 30 Member: 7\n",
            "Index: 31 Member: 2\n",
            "Index: 32 Member: 8\n",
            "Index: 33 Member: 2\n",
            "Index: 34 Member: 6\n",
            "Index: 35 Member: 3\n",
            "Index: 36 Member: 0\n",
            "Index: 37 Member: 9\n",
            "Index: 38 Member: 0\n",
            "Index: 39 Member: 5\n",
            "Index: 40 Member: 7\n",
            "Index: 41 Member: 1\n",
            "Index: 42 Member: 5\n",
            "Index: 43 Member: 8\n",
            "Index: 44 Member: 8\n",
            "Index: 45 Member: 8\n",
            "Index: 46 Member: 7\n",
            "Index: 47 Member: 9\n",
            "Index: 48 Member: 6\n",
            "Index: 49 Member: 8\n",
            "Index: 50 Member: 3\n",
            "Index: 51 Member: 5\n",
            "Index: 52 Member: 9\n",
            "Index: 53 Member: 7\n",
            "Index: 54 Member: 9\n",
            "Index: 55 Member: 6\n",
            "Index: 56 Member: 5\n",
            "Index: 57 Member: 3\n",
            "Index: 58 Member: 5\n",
            "Index: 59 Member: 6\n",
            "Index: 60 Member: 7\n",
            "Index: 61 Member: 6\n",
            "Index: 62 Member: 8\n",
            "Index: 63 Member: 4\n",
            "Index: 64 Member: 4\n",
            "Index: 65 Member: 8\n",
            "Index: 66 Member: 9\n",
            "Index: 67 Member: 4\n",
            "Index: 68 Member: 8\n",
            "Index: 69 Member: 4\n",
            "Index: 70 Member: 2\n",
            "Index: 71 Member: 2\n",
            "Index: 72 Member: 3\n",
            "Index: 73 Member: 2\n",
            "Index: 74 Member: 6\n",
            "Index: 75 Member: 1\n",
            "Index: 76 Member: 5\n",
            "Index: 77 Member: 7\n",
            "Index: 78 Member: 1\n",
            "Index: 79 Member: 6\n",
            "Index: 80 Member: 4\n",
            "Index: 81 Member: 2\n",
            "Index: 82 Member: 0\n",
            "Index: 83 Member: 8\n",
            "Index: 84 Member: 7\n",
            "Index: 85 Member: 3\n",
            "Index: 86 Member: 6\n",
            "Index: 87 Member: 3\n",
            "Index: 88 Member: 9\n",
            "Index: 89 Member: 3\n",
            "Index: 90 Member: 1\n",
            "Index: 91 Member: 6\n",
            "Index: 92 Member: 6\n",
            "Index: 93 Member: 7\n",
            "Index: 94 Member: 0\n",
            "Index: 95 Member: 1\n",
            "Index: 96 Member: 4\n",
            "Index: 97 Member: 0\n",
            "Index: 98 Member: 6\n",
            "Index: 99 Member: 7\n"
          ]
        }
      ]
    },
    {
      "cell_type": "code",
      "source": [
        "count = 0\n",
        "for i in range(10):\n",
        "    for i in range(10):\n",
        "        print(num[count], \" \", end=\" \")\n",
        "        count += 1\n",
        "    print(\"\\n\")"
      ],
      "metadata": {
        "colab": {
          "base_uri": "https://localhost:8080/"
        },
        "id": "IPOHCvmS4AtC",
        "outputId": "7b44b32f-ba01-4ef7-a07e-daab6825aeaa"
      },
      "execution_count": null,
      "outputs": [
        {
          "output_type": "stream",
          "name": "stdout",
          "text": [
            "3   9   1   2   7   8   5   9   9   8   \n",
            "\n",
            "1   7   4   9   9   3   1   8   7   3   \n",
            "\n",
            "8   7   4   5   6   3   7   4   9   9   \n",
            "\n",
            "7   2   8   2   6   3   0   9   0   5   \n",
            "\n",
            "7   1   5   8   8   8   7   9   6   8   \n",
            "\n",
            "3   5   9   7   9   6   5   3   5   6   \n",
            "\n",
            "7   6   8   4   4   8   9   4   8   4   \n",
            "\n",
            "2   2   3   2   6   1   5   7   1   6   \n",
            "\n",
            "4   2   0   8   7   3   6   3   9   3   \n",
            "\n",
            "1   6   6   7   0   1   4   0   6   7   \n",
            "\n"
          ]
        }
      ]
    },
    {
      "cell_type": "code",
      "source": [
        "# when to initialize a variable\n",
        "\n",
        "sum=0\n",
        "for n in range (10): #repeats each row 10 times\n",
        "    for i in range(10): #repeats each integer 10 times\n",
        "       y=random.randint(0,9)\n",
        "       sum=sum+ y\n",
        "       print(y,end=\" \") #prints one integer with space at the end\n",
        "    print( \"*\",sum,end=\" \\n\")  #starts a new row after each 10 char\n",
        "    sum=0                     #resets sum to 0 before the next loop"
      ],
      "metadata": {
        "colab": {
          "base_uri": "https://localhost:8080/"
        },
        "id": "viIs1Pun4fGF",
        "outputId": "f8786b77-e031-485e-fad5-27689cedfce4"
      },
      "execution_count": null,
      "outputs": [
        {
          "output_type": "stream",
          "name": "stdout",
          "text": [
            "6 7 0 3 2 0 0 6 7 9 * 40 \n",
            "1 1 8 2 8 3 6 3 0 8 * 40 \n",
            "4 5 9 7 0 5 1 7 1 3 * 42 \n",
            "3 8 2 6 1 2 5 8 9 1 * 45 \n",
            "5 0 6 1 3 4 4 9 2 8 * 42 \n",
            "1 3 1 8 3 6 0 2 8 3 * 35 \n",
            "1 4 0 2 4 1 6 3 8 6 * 35 \n",
            "7 9 6 1 4 5 8 6 4 0 * 50 \n",
            "2 2 5 6 7 8 3 5 5 4 * 47 \n",
            "8 1 6 4 1 1 2 0 9 3 * 35 \n"
          ]
        }
      ]
    },
    {
      "cell_type": "code",
      "source": [
        "# when to initialize a variable\n",
        "for n in range (10): #repeats each row 10 times\n",
        "    sum=0\n",
        "    for i in range(10): #repeats each integer 10 times\n",
        "       y=random.randint(0,9)\n",
        "       sum=sum+ y\n",
        "       print(y,end=\" \") #prints one integer with space at the end\n",
        "    print( \"*\",sum,end=\" \\n\")  #starts a new row after each 10 char"
      ],
      "metadata": {
        "id": "sC3LnkL08Q8f",
        "outputId": "21b0e0e9-bedc-4a93-aacf-3e2fe2c83756",
        "colab": {
          "base_uri": "https://localhost:8080/"
        }
      },
      "execution_count": null,
      "outputs": [
        {
          "output_type": "stream",
          "name": "stdout",
          "text": [
            "9 9 0 8 2 4 0 9 1 7 * 49 \n",
            "6 0 6 3 7 9 6 3 2 1 * 43 \n",
            "9 0 7 8 5 1 6 6 7 8 * 57 \n",
            "9 7 4 9 5 7 2 1 7 4 * 55 \n",
            "1 9 5 8 7 0 0 3 5 5 * 43 \n",
            "8 9 0 0 4 7 2 6 5 6 * 47 \n",
            "8 2 8 9 1 1 9 6 9 9 * 62 \n",
            "6 4 2 2 7 8 9 3 6 3 * 50 \n",
            "4 0 8 7 3 5 2 6 2 6 * 43 \n",
            "4 8 6 9 4 0 9 9 0 7 * 56 \n"
          ]
        }
      ]
    },
    {
      "cell_type": "code",
      "source": [
        "x = [0,0,0,0,0,0]\n",
        "print(x)"
      ],
      "metadata": {
        "colab": {
          "base_uri": "https://localhost:8080/"
        },
        "id": "cIXdOxGx7IoM",
        "outputId": "94af5f29-8936-4c9c-b447-842bfb289a53"
      },
      "execution_count": null,
      "outputs": [
        {
          "output_type": "stream",
          "name": "stdout",
          "text": [
            "[0, 0, 0, 0, 0, 0]\n"
          ]
        }
      ]
    },
    {
      "cell_type": "code",
      "source": [
        "x = [0]*6\n",
        "print(x)"
      ],
      "metadata": {
        "colab": {
          "base_uri": "https://localhost:8080/"
        },
        "id": "_O89P24u7Ml3",
        "outputId": "2afc8a5c-7fbd-40b5-ff48-7e24ed440de0"
      },
      "execution_count": null,
      "outputs": [
        {
          "output_type": "stream",
          "name": "stdout",
          "text": [
            "[0, 0, 0, 0, 0, 0]\n"
          ]
        }
      ]
    },
    {
      "cell_type": "code",
      "source": [
        "x = [0]*100\n",
        "print(x)"
      ],
      "metadata": {
        "colab": {
          "base_uri": "https://localhost:8080/"
        },
        "id": "TRL6c9Jq7P_N",
        "outputId": "c113cade-083f-4eb5-861c-8dccfe1217ce"
      },
      "execution_count": null,
      "outputs": [
        {
          "output_type": "stream",
          "name": "stdout",
          "text": [
            "[0, 0, 0, 0, 0, 0, 0, 0, 0, 0, 0, 0, 0, 0, 0, 0, 0, 0, 0, 0, 0, 0, 0, 0, 0, 0, 0, 0, 0, 0, 0, 0, 0, 0, 0, 0, 0, 0, 0, 0, 0, 0, 0, 0, 0, 0, 0, 0, 0, 0, 0, 0, 0, 0, 0, 0, 0, 0, 0, 0, 0, 0, 0, 0, 0, 0, 0, 0, 0, 0, 0, 0, 0, 0, 0, 0, 0, 0, 0, 0, 0, 0, 0, 0, 0, 0, 0, 0, 0, 0, 0, 0, 0, 0, 0, 0, 0, 0, 0, 0]\n"
          ]
        }
      ]
    },
    {
      "cell_type": "code",
      "source": [
        ""
      ],
      "metadata": {
        "id": "ko17Pb1H7Uf8"
      },
      "execution_count": null,
      "outputs": []
    }
  ]
}