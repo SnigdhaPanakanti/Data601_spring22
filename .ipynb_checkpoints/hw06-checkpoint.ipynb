{
 "cells": [
  {
   "cell_type": "markdown",
   "metadata": {},
   "source": [
    "# Homework 6\n",
    "\n",
    "\n",
    "This homework is designed to process a large csv file (bigger than pandas can handle)\n",
    "https://github.com/msaricaumbc/DS_data/blob/master/bigfile.csv.zip?raw=true\n",
    "\n",
    "Write code to perform/answer the following actions:\n",
    "\n",
    "1. Print how many records processed\n",
    "1. Create a histogram of ages\n",
    "1. List the top 20 occupations \n",
    "\n",
    "Don't use Pandas or Dask"
   ]
  },
  {
   "cell_type": "markdown",
   "metadata": {},
   "source": [
    "### Download & Extract Data"
   ]
  },
  {
   "cell_type": "code",
   "execution_count": 13,
   "metadata": {},
   "outputs": [],
   "source": [
    "from zipfile import ZipFile"
   ]
  },
  {
   "cell_type": "code",
   "execution_count": 14,
   "metadata": {},
   "outputs": [],
   "source": [
    "from urllib import request\n",
    "\n",
    "def download_file(file_name, url):\n",
    "    res = request.urlopen(url)\n",
    "    with open(file_name,'wb') as file:\n",
    "        file.write(res.read())"
   ]
  },
  {
   "cell_type": "code",
   "execution_count": 15,
   "metadata": {},
   "outputs": [],
   "source": [
    "file_url = 'https://github.com/msaricaumbc/DS_data/blob/master/bigfile.csv.zip?raw=true'\n",
    "file_name = 'bigfile.csv.zip'\n",
    "\n",
    "download_file(file_name, file_url)"
   ]
  },
  {
   "cell_type": "code",
   "execution_count": 16,
   "metadata": {},
   "outputs": [],
   "source": [
    "def unzip(file_name, path='./'):\n",
    "    # opening the zip file in READ mode \n",
    "    with ZipFile(file_name, 'r') as zip: \n",
    "        # printing all the contents of the zip file \n",
    "        zip.printdir() \n",
    "\n",
    "        # extracting all the files \n",
    "        print('Extracting all the files now...') \n",
    "        zip.extractall(path = path) \n",
    "        print('Done!') "
   ]
  },
  {
   "cell_type": "code",
   "execution_count": 17,
   "metadata": {},
   "outputs": [
    {
     "name": "stdout",
     "output_type": "stream",
     "text": [
      "File Name                                             Modified             Size\n",
      "bigfile.csv                                    2022-03-07 20:08:48  18034182194\n",
      "Extracting all the files now...\n",
      "Done!\n"
     ]
    }
   ],
   "source": [
    "unzip(file_name)"
   ]
  },
  {
   "cell_type": "markdown",
   "metadata": {},
   "source": [
    "### Reading data from a csv file"
   ]
  },
  {
   "cell_type": "markdown",
   "metadata": {},
   "source": [
    "- Print how many records processed."
   ]
  },
  {
   "cell_type": "code",
   "execution_count": 18,
   "metadata": {},
   "outputs": [
    {
     "name": "stdout",
     "output_type": "stream",
     "text": [
      "600000\n"
     ]
    }
   ],
   "source": [
    "row=0\n",
    "for i in open('bigfile.csv'):\n",
    "    row+=1\n",
    "print(row)    "
   ]
  },
  {
   "cell_type": "markdown",
   "metadata": {},
   "source": [
    "- Create a histogram of ages"
   ]
  },
  {
   "cell_type": "code",
   "execution_count": 19,
   "metadata": {},
   "outputs": [
    {
     "data": {
      "text/plain": [
       "(array([1.57791e+05, 1.18469e+05, 1.31458e+05, 9.68830e+04, 6.01240e+04,\n",
       "        2.44930e+04, 8.50300e+03, 1.87000e+03, 3.72000e+02, 3.70000e+01]),\n",
       " array([ 17. ,  33.5,  50. ,  66.5,  83. ,  99.5, 116. , 132.5, 149. ,\n",
       "        165.5, 182. ]),\n",
       " <BarContainer object of 10 artists>)"
      ]
     },
     "execution_count": 19,
     "metadata": {},
     "output_type": "execute_result"
    },
    {
     "data": {
      "image/png": "[encoded data removed]",
      "text/plain": [
       "<Figure size 432x288 with 1 Axes>"
      ]
     },
     "metadata": {
      "needs_background": "light"
     },
     "output_type": "display_data"
    }
   ],
   "source": [
    "from matplotlib import pyplot as plt\n",
    "age=[]\n",
    "with open('bigfile.csv','r') as file:\n",
    "    while(True):\n",
    "        l=file.readline()\n",
    "        if not l:\n",
    "            break\n",
    "        line2 = l.split(',')\n",
    "        age.append(int(line2[3]))\n",
    "        \n",
    "file.close()\n",
    "\n",
    "plt.hist(age)\n"
   ]
  },
  {
   "cell_type": "markdown",
   "metadata": {},
   "source": [
    "- List the top 20 occupations"
   ]
  },
  {
   "cell_type": "code",
   "execution_count": 26,
   "metadata": {},
   "outputs": [
    {
     "name": "stdout",
     "output_type": "stream",
     "text": [
      "Scientist- product/process development\n",
      "Psychiatric nurse\n",
      "Therapist- sports\n",
      "Toxicologist\n",
      "Social researcher\n",
      "Environmental health practitioner\n",
      "Naval architect\n",
      "Teacher- primary school\n",
      "Administrator- charities/voluntary organisations\n",
      "Chartered loss adjuster\n",
      "Photographer\n",
      "Field trials officer\n",
      "Radio producer\n",
      "Ranger/warden\n",
      "Electrical engineer\n",
      "Radiographer- diagnostic\n",
      "Acupuncturist\n",
      "Administrator- education\n",
      "Quantity surveyor\n",
      "Research scientist (medical)\n"
     ]
    }
   ],
   "source": [
    "from collections import Counter\n",
    "occupation=[]\n",
    "with open('bigfile.csv','r') as file:\n",
    "    while(True):\n",
    "        l=file.readline()\n",
    "        if not l:\n",
    "            break\n",
    "        line2 = l.split(',')\n",
    "        occupation.append(line2[4])\n",
    "        \n",
    "file.close()\n",
    "\n",
    "occupcount=[item for item,count in Counter(occupation).most_common() for item in [item]]\n",
    "for i in range(0,20):\n",
    "    print(occupcount[i])\n",
    "\n"
   ]
  },
  {
   "cell_type": "code",
   "execution_count": null,
   "metadata": {},
   "outputs": [],
   "source": []
  }
 ],
 "metadata": {
  "kernelspec": {
   "display_name": "Python 3 (ipykernel)",
   "language": "python",
   "name": "python3"
  },
  "language_info": {
   "codemirror_mode": {
    "name": "ipython",
    "version": 3
   },
   "file_extension": ".py",
   "mimetype": "text/x-python",
   "name": "python",
   "nbconvert_exporter": "python",
   "pygments_lexer": "ipython3",
   "version": "3.9.7"
  },
  "toc": {
   "base_numbering": 1,
   "nav_menu": {},
   "number_sections": true,
   "sideBar": true,
   "skip_h1_title": false,
   "title_cell": "Table of Contents",
   "title_sidebar": "Contents",
   "toc_cell": false,
   "toc_position": {},
   "toc_section_display": true,
   "toc_window_display": false
  },
  "varInspector": {
   "cols": {
    "lenName": 16,
    "lenType": 16,
    "lenVar": 40
   },
   "kernels_config": {
    "python": {
     "delete_cmd_postfix": "",
     "delete_cmd_prefix": "del ",
     "library": "var_list.py",
     "varRefreshCmd": "print(var_dic_list())"
    },
    "r": {
     "delete_cmd_postfix": ") ",
     "delete_cmd_prefix": "rm(",
     "library": "var_list.r",
     "varRefreshCmd": "cat(var_dic_list()) "
    }
   },
   "types_to_exclude": [
    "module",
    "function",
    "builtin_function_or_method",
    "instance",
    "_Feature"
   ],
   "window_display": false
  }
 },
 "nbformat": 4,
 "nbformat_minor": 2
}
