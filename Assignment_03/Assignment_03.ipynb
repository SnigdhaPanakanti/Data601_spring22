{
  "nbformat": 4,
  "nbformat_minor": 0,
  "metadata": {
    "colab": {
      "name": "Assignment_03.ipynb",
      "provenance": [],
      "collapsed_sections": [],
      "authorship_tag": "ABX9TyN+D7hU2D7pQEEiad98SP2m",
      "include_colab_link": true
    },
    "kernelspec": {
      "name": "python3",
      "display_name": "Python 3"
    },
    "language_info": {
      "name": "python"
    }
  },
  "cells": [
    {
      "cell_type": "markdown",
      "metadata": {
        "id": "view-in-github",
        "colab_type": "text"
      },
      "source": [
        "<a href=\"https://colab.research.google.com/github/SnigdhaPanakanti/Data601_spring22/blob/main/Assignment_03/Assignment_03.ipynb\" target=\"_parent\"><img src=\"https://colab.research.google.com/assets/colab-badge.svg\" alt=\"Open In Colab\"/></a>"
      ]
    },
    {
      "cell_type": "markdown",
      "source": [
        "# *Assignment - 03*\n",
        "## Program for generating 100 random integers between 0 and 9."
      ],
      "metadata": {
        "id": "NsDeY_bZ7lwK"
      }
    },
    {
      "cell_type": "code",
      "execution_count": 150,
      "metadata": {
        "id": "bBzpzH7b7gX9"
      },
      "outputs": [],
      "source": [
        "import random"
      ]
    },
    {
      "cell_type": "code",
      "source": [
        "for i in range(10):\n",
        "    for j in range(10):\n",
        "        print(random.randint(0,9))\n",
        "    \n",
        "print()"
      ],
      "metadata": {
        "id": "cqS3fKWG-ttu",
        "colab": {
          "base_uri": "https://localhost:8080/"
        },
        "outputId": "8bc82b87-51d1-4dc2-a105-23e03f4ec3fe"
      },
      "execution_count": 151,
      "outputs": [
        {
          "output_type": "stream",
          "name": "stdout",
          "text": [
            "1\n",
            "8\n",
            "1\n",
            "3\n",
            "8\n",
            "6\n",
            "6\n",
            "2\n",
            "4\n",
            "9\n",
            "5\n",
            "2\n",
            "9\n",
            "8\n",
            "4\n",
            "7\n",
            "5\n",
            "6\n",
            "0\n",
            "0\n",
            "3\n",
            "8\n",
            "5\n",
            "9\n",
            "7\n",
            "4\n",
            "8\n",
            "5\n",
            "3\n",
            "2\n",
            "3\n",
            "9\n",
            "7\n",
            "3\n",
            "2\n",
            "1\n",
            "4\n",
            "0\n",
            "6\n",
            "7\n",
            "0\n",
            "5\n",
            "2\n",
            "1\n",
            "9\n",
            "9\n",
            "5\n",
            "2\n",
            "8\n",
            "1\n",
            "8\n",
            "2\n",
            "4\n",
            "3\n",
            "0\n",
            "1\n",
            "6\n",
            "7\n",
            "0\n",
            "7\n",
            "4\n",
            "4\n",
            "8\n",
            "3\n",
            "3\n",
            "1\n",
            "2\n",
            "9\n",
            "7\n",
            "3\n",
            "0\n",
            "3\n",
            "2\n",
            "8\n",
            "4\n",
            "9\n",
            "9\n",
            "9\n",
            "4\n",
            "2\n",
            "5\n",
            "6\n",
            "8\n",
            "9\n",
            "4\n",
            "6\n",
            "5\n",
            "5\n",
            "9\n",
            "1\n",
            "9\n",
            "6\n",
            "2\n",
            "8\n",
            "4\n",
            "6\n",
            "8\n",
            "7\n",
            "8\n",
            "6\n",
            "\n"
          ]
        }
      ]
    },
    {
      "cell_type": "markdown",
      "source": [
        "1. Printing them in a 10 by 10 matrix with one space between each number:"
      ],
      "metadata": {
        "id": "IXk2HSPP-cJ9"
      }
    },
    {
      "cell_type": "code",
      "source": [
        "for i in range(10):\n",
        "    for j in range(10):\n",
        "        x = random.randint(0,9)\n",
        "        print(x, end=\" \")\n",
        "    print()"
      ],
      "metadata": {
        "colab": {
          "base_uri": "https://localhost:8080/"
        },
        "id": "Crht2R098fxU",
        "outputId": "85e61f1b-d4d0-4184-98bc-04b4d90ba9fa"
      },
      "execution_count": 152,
      "outputs": [
        {
          "output_type": "stream",
          "name": "stdout",
          "text": [
            "5 7 9 9 6 3 8 0 9 6 \n",
            "5 7 4 4 3 6 5 1 5 4 \n",
            "0 5 0 0 0 3 6 3 0 5 \n",
            "0 8 0 0 7 9 7 2 0 8 \n",
            "0 2 3 5 9 3 5 9 5 3 \n",
            "1 3 7 2 9 1 6 6 7 5 \n",
            "6 5 2 6 0 3 2 6 4 6 \n",
            "1 0 6 0 3 7 5 5 0 7 \n",
            "7 4 0 7 9 9 6 9 0 9 \n",
            "7 9 6 4 2 3 3 8 7 3 \n"
          ]
        }
      ]
    },
    {
      "cell_type": "markdown",
      "source": [
        "2. Printing \"@\" if the random number is an odd number:"
      ],
      "metadata": {
        "id": "_PFbEibQ_rCw"
      }
    },
    {
      "cell_type": "code",
      "source": [
        "for i in range(10):\n",
        "    for j in range(10):\n",
        "        x = random.randint(0,9)\n",
        "        if x%2 == 0:\n",
        "          print(x, end=\" \")\n",
        "        else:\n",
        "          print(\"@\", end=\" \")\n",
        "    print()"
      ],
      "metadata": {
        "colab": {
          "base_uri": "https://localhost:8080/"
        },
        "id": "9sXwt8Wx9Fvw",
        "outputId": "114dc658-d735-4588-c43f-5303553e579a"
      },
      "execution_count": 153,
      "outputs": [
        {
          "output_type": "stream",
          "name": "stdout",
          "text": [
            "6 @ @ @ @ 4 @ 8 8 8 \n",
            "4 @ 2 4 @ @ @ @ 6 4 \n",
            "6 @ 4 8 @ 4 8 @ 4 2 \n",
            "0 8 @ 8 @ 4 @ @ 8 @ \n",
            "8 @ @ @ @ @ 6 @ @ @ \n",
            "@ 8 4 6 0 0 4 @ 0 8 \n",
            "@ @ 2 @ @ @ @ @ 0 8 \n",
            "4 8 @ 2 4 @ @ @ @ 0 \n",
            "0 8 @ 6 0 8 4 8 @ @ \n",
            "@ 6 @ 4 6 @ @ 0 @ @ \n"
          ]
        }
      ]
    },
    {
      "cell_type": "markdown",
      "source": [
        "3. Calculating and Printing the total of each row using \"*\" to separate the total from the numbers:"
      ],
      "metadata": {
        "id": "F1kJZjnB_3Mx"
      }
    },
    {
      "cell_type": "code",
      "source": [
        "for i in range(10):\n",
        "    a = 0\n",
        "    for j in range(10):\n",
        "        x = random.randint(0,9)\n",
        "        a = a+x\n",
        "        print(x, end=\" \")\n",
        "    print(end=\"* \")\n",
        "    print(a, end=\" \")\n",
        "    print()"
      ],
      "metadata": {
        "colab": {
          "base_uri": "https://localhost:8080/"
        },
        "id": "6lqODcw8cCIS",
        "outputId": "9478949f-7d01-4787-fd92-2b28365394f2"
      },
      "execution_count": 154,
      "outputs": [
        {
          "output_type": "stream",
          "name": "stdout",
          "text": [
            "6 1 2 3 8 4 4 4 9 2 * 43 \n",
            "6 5 1 8 4 4 5 5 6 6 * 50 \n",
            "5 6 8 5 3 7 2 5 4 7 * 52 \n",
            "6 1 1 3 7 9 1 2 2 4 * 36 \n",
            "0 0 1 6 1 5 5 5 6 1 * 30 \n",
            "0 5 3 2 1 2 3 4 1 0 * 21 \n",
            "6 2 0 2 6 4 9 3 0 0 * 32 \n",
            "0 0 7 6 2 5 6 7 5 5 * 43 \n",
            "2 4 8 7 1 3 8 9 1 1 * 44 \n",
            "1 6 3 5 6 3 6 1 2 0 * 33 \n"
          ]
        }
      ]
    },
    {
      "cell_type": "markdown",
      "source": [
        "4. Surrounding the matrix with asterisks \"*\""
      ],
      "metadata": {
        "id": "a230ryYqlV7E"
      }
    },
    {
      "cell_type": "code",
      "source": [
        "\n",
        "for i in range(12):\n",
        "    print(\"*\",end=\" \")\n",
        "\n",
        "print()\n",
        "for i in range(10):\n",
        "    print(\"*\", end=\" \")\n",
        "    for j in range(10):\n",
        "        x = random.randint(0,9)\n",
        "        print(x, end=\" \")\n",
        "    print(\"*\", end=\" \")\n",
        "    print()\n",
        "\n",
        "for i in range(12):\n",
        "    print(\"*\",end=\" \")"
      ],
      "metadata": {
        "colab": {
          "base_uri": "https://localhost:8080/"
        },
        "id": "47xRkhFPleHv",
        "outputId": "af59c7a1-0664-4f19-9d3d-f9d0bf19e2ac"
      },
      "execution_count": 155,
      "outputs": [
        {
          "output_type": "stream",
          "name": "stdout",
          "text": [
            "* * * * * * * * * * * * \n",
            "* 6 4 8 8 5 0 7 8 6 3 * \n",
            "* 8 1 9 7 7 2 8 2 1 4 * \n",
            "* 8 5 5 0 5 2 2 8 6 1 * \n",
            "* 7 7 7 9 1 9 0 2 0 2 * \n",
            "* 1 5 0 8 9 3 0 9 3 5 * \n",
            "* 6 2 0 5 8 8 6 1 7 8 * \n",
            "* 9 8 8 6 1 0 9 0 3 1 * \n",
            "* 1 8 1 5 5 0 3 0 1 0 * \n",
            "* 3 2 4 0 4 1 0 8 2 8 * \n",
            "* 2 3 1 7 8 8 0 9 6 6 * \n",
            "* * * * * * * * * * * * "
          ]
        }
      ]
    },
    {
      "cell_type": "code",
      "source": [
        "print(\"***********************\", end=\" \")\n",
        "print()\n",
        "for i in range(10):\n",
        "    print(\"*\", end=\" \")\n",
        "    for j in range(10):\n",
        "        x = random.randint(0,9)\n",
        "        print(x, end=\" \")\n",
        "    print(\"*\", end=\" \")\n",
        "    print()\n",
        "\n",
        "print(\"***********************\")"
      ],
      "metadata": {
        "colab": {
          "base_uri": "https://localhost:8080/"
        },
        "id": "w4swIQ02lmxZ",
        "outputId": "c8000e4c-d39e-42a8-a2bb-27ae09f77bee"
      },
      "execution_count": 156,
      "outputs": [
        {
          "output_type": "stream",
          "name": "stdout",
          "text": [
            "*********************** \n",
            "* 0 9 3 6 9 8 0 1 1 6 * \n",
            "* 9 9 0 3 5 0 7 0 6 5 * \n",
            "* 3 6 6 8 9 7 6 6 7 2 * \n",
            "* 4 0 7 2 8 5 0 1 6 6 * \n",
            "* 1 1 2 6 9 6 9 6 3 2 * \n",
            "* 9 7 0 6 1 4 3 1 7 2 * \n",
            "* 4 5 9 4 9 8 5 6 4 8 * \n",
            "* 2 5 4 9 7 8 7 6 3 2 * \n",
            "* 3 0 1 1 6 6 6 7 1 8 * \n",
            "* 8 4 9 5 4 3 5 2 5 0 * \n",
            "***********************\n"
          ]
        }
      ]
    },
    {
      "cell_type": "markdown",
      "source": [
        "5. Calculating and Printing the total of each row and column"
      ],
      "metadata": {
        "id": "3mm0xjZcwls2"
      }
    },
    {
      "cell_type": "code",
      "source": [
        "b = [0]*10\n",
        "for i in range(10):\n",
        "    a = 0\n",
        "    for j in range(10):\n",
        "        x = random.randint(0,9)\n",
        "        b[j] = b[j] + x\n",
        "        a = a + x\n",
        "        print(x, end=\"  \")\n",
        "    print(end=\"* \")\n",
        "    print(a, end=\" \")\n",
        "    print()\n",
        "for i in range(10):\n",
        "    print(\"*\", end=\"  \")\n",
        "print()\n",
        "for n in range(10):\n",
        "    print(b[n], end=\" \")"
      ],
      "metadata": {
        "colab": {
          "base_uri": "https://localhost:8080/"
        },
        "id": "MlDjpd-0wwMV",
        "outputId": "d076448e-744b-4d8a-b443-de18957ee206"
      },
      "execution_count": 159,
      "outputs": [
        {
          "output_type": "stream",
          "name": "stdout",
          "text": [
            "9  5  4  1  6  6  5  9  0  9  * 54 \n",
            "2  1  3  9  3  6  2  1  5  0  * 32 \n",
            "7  5  0  7  1  3  9  0  3  7  * 42 \n",
            "9  1  2  4  1  6  4  7  5  1  * 40 \n",
            "8  2  7  3  7  0  5  5  4  3  * 44 \n",
            "3  6  2  5  8  9  9  5  4  8  * 59 \n",
            "2  9  3  0  5  0  3  4  3  7  * 36 \n",
            "1  8  8  2  2  5  7  5  7  7  * 52 \n",
            "0  0  7  1  7  7  9  0  5  8  * 44 \n",
            "6  6  0  7  1  6  0  0  6  6  * 38 \n",
            "*  *  *  *  *  *  *  *  *  *  \n",
            "47 43 36 39 41 48 53 36 42 56 "
          ]
        }
      ]
    }
  ]
}