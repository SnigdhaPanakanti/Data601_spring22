{
 "cells": [
  {
   "cell_type": "markdown",
   "id": "142f4de1",
   "metadata": {
    "id": "v5Zi0hVzU34f"
   },
   "source": [
    "# Week6 Lab\n",
    "\n",
    "## Download & Extract Data\n",
    "\n",
    "Programmatically download the zip file & extract"
   ]
  },
  {
   "cell_type": "code",
   "execution_count": 8,
   "id": "da4dc51b",
   "metadata": {},
   "outputs": [],
   "source": [
    "from zipfile import ZipFile\n",
    "import pandas as pd"
   ]
  },
  {
   "cell_type": "code",
   "execution_count": 3,
   "id": "51a82b0c",
   "metadata": {},
   "outputs": [],
   "source": [
    "from urllib import request\n",
    "\n",
    "def download_file(file_name, url):\n",
    "    res = request.urlopen(url)\n",
    "    with open(file_name,'wb') as file:\n",
    "        file.write(res.read())"
   ]
  },
  {
   "cell_type": "code",
   "execution_count": 4,
   "id": "366aa3f0",
   "metadata": {
    "colab": {
     "base_uri": "https://localhost:8080/"
    },
    "id": "sbIweVvCfHMU",
    "outputId": "5c1794ed-460b-46fe-e09b-675284a038a7",
    "scrolled": true
   },
   "outputs": [],
   "source": [
    "file_url = 'https://github.com/msaricaumbc/DS_data/blob/master/lab_data.zip?raw=true'\n",
    "file_name = 'lab_data.zip'\n",
    "\n",
    "download_file(file_name, file_url)"
   ]
  },
  {
   "cell_type": "code",
   "execution_count": 5,
   "id": "c2e263a7",
   "metadata": {},
   "outputs": [],
   "source": [
    "def unzip(file_name, path='./'):\n",
    "    # opening the zip file in READ mode \n",
    "    with ZipFile(file_name, 'r') as zip: \n",
    "        # printing all the contents of the zip file \n",
    "        zip.printdir() \n",
    "\n",
    "        # extracting all the files \n",
    "        print('Extracting all the files now...') \n",
    "        zip.extractall(path = path) \n",
    "        print('Done!') "
   ]
  },
  {
   "cell_type": "code",
   "execution_count": 6,
   "id": "37ead077",
   "metadata": {},
   "outputs": [
    {
     "name": "stdout",
     "output_type": "stream",
     "text": [
      "File Name                                             Modified             Size\n",
      "PoliceShootingsUS.csv                          2021-09-21 20:53:54       227653\n",
      "__MACOSX/._PoliceShootingsUS.csv               2021-09-21 20:53:54          276\n",
      "volunteers.txt                                 2021-10-06 00:32:28         7015\n",
      "__MACOSX/._volunteers.txt                      2021-10-06 00:32:28          176\n",
      "Extracting all the files now...\n",
      "Done!\n"
     ]
    }
   ],
   "source": [
    "unzip(file_name)"
   ]
  },
  {
   "cell_type": "code",
   "execution_count": null,
   "id": "4bb1f907",
   "metadata": {},
   "outputs": [],
   "source": []
  },
  {
   "cell_type": "markdown",
   "id": "3b50c890",
   "metadata": {
    "id": "_kjkZyypfdLD"
   },
   "source": [
    "## Reading data from a csv file"
   ]
  },
  {
   "cell_type": "markdown",
   "id": "eb1e93f2",
   "metadata": {
    "id": "RgyCSGYBgCK0"
   },
   "source": [
    "For the file `PoliceShootingsUS.csv`, please answer the following questions:\n",
    "\n",
    "* How many offenders are older than 55? "
   ]
  },
  {
   "cell_type": "code",
   "execution_count": 18,
   "id": "367088e5",
   "metadata": {
    "id": "v7tImBaOgNwo"
   },
   "outputs": [],
   "source": [
    "## Your code is here\n",
    "download_file('PoliceShootingsUS.csv','https://raw.githubusercontent.com/msaricaumbc/DS_data/master/PoliceShootingsUS.csv')"
   ]
  },
  {
   "cell_type": "code",
   "execution_count": 33,
   "id": "9f2b6cbf",
   "metadata": {},
   "outputs": [
    {
     "data": {
      "text/html": [
       "<div>\n",
       "<style scoped>\n",
       "    .dataframe tbody tr th:only-of-type {\n",
       "        vertical-align: middle;\n",
       "    }\n",
       "\n",
       "    .dataframe tbody tr th {\n",
       "        vertical-align: top;\n",
       "    }\n",
       "\n",
       "    .dataframe thead th {\n",
       "        text-align: right;\n",
       "    }\n",
       "</style>\n",
       "<table border=\"1\" class=\"dataframe\">\n",
       "  <thead>\n",
       "    <tr style=\"text-align: right;\">\n",
       "      <th></th>\n",
       "      <th>id</th>\n",
       "      <th>name</th>\n",
       "      <th>date</th>\n",
       "      <th>manner_of_death</th>\n",
       "      <th>armed</th>\n",
       "      <th>age</th>\n",
       "      <th>gender</th>\n",
       "      <th>race</th>\n",
       "      <th>city</th>\n",
       "      <th>state</th>\n",
       "      <th>signs_of_mental_illness</th>\n",
       "      <th>threat_level</th>\n",
       "      <th>flee</th>\n",
       "      <th>body_camera</th>\n",
       "    </tr>\n",
       "  </thead>\n",
       "  <tbody>\n",
       "    <tr>\n",
       "      <th>0</th>\n",
       "      <td>3</td>\n",
       "      <td>Tim Elliot</td>\n",
       "      <td>02/01/15</td>\n",
       "      <td>shot</td>\n",
       "      <td>gun</td>\n",
       "      <td>53.0</td>\n",
       "      <td>M</td>\n",
       "      <td>A</td>\n",
       "      <td>Shelton</td>\n",
       "      <td>WA</td>\n",
       "      <td>True</td>\n",
       "      <td>attack</td>\n",
       "      <td>Not fleeing</td>\n",
       "      <td>False</td>\n",
       "    </tr>\n",
       "    <tr>\n",
       "      <th>1</th>\n",
       "      <td>4</td>\n",
       "      <td>Lewis Lee Lembke</td>\n",
       "      <td>02/01/15</td>\n",
       "      <td>shot</td>\n",
       "      <td>gun</td>\n",
       "      <td>47.0</td>\n",
       "      <td>M</td>\n",
       "      <td>W</td>\n",
       "      <td>Aloha</td>\n",
       "      <td>OR</td>\n",
       "      <td>False</td>\n",
       "      <td>attack</td>\n",
       "      <td>Not fleeing</td>\n",
       "      <td>False</td>\n",
       "    </tr>\n",
       "    <tr>\n",
       "      <th>2</th>\n",
       "      <td>5</td>\n",
       "      <td>John Paul Quintero</td>\n",
       "      <td>03/01/15</td>\n",
       "      <td>shot and Tasered</td>\n",
       "      <td>unarmed</td>\n",
       "      <td>23.0</td>\n",
       "      <td>M</td>\n",
       "      <td>H</td>\n",
       "      <td>Wichita</td>\n",
       "      <td>KS</td>\n",
       "      <td>False</td>\n",
       "      <td>other</td>\n",
       "      <td>Not fleeing</td>\n",
       "      <td>False</td>\n",
       "    </tr>\n",
       "    <tr>\n",
       "      <th>3</th>\n",
       "      <td>8</td>\n",
       "      <td>Matthew Hoffman</td>\n",
       "      <td>04/01/15</td>\n",
       "      <td>shot</td>\n",
       "      <td>toy weapon</td>\n",
       "      <td>32.0</td>\n",
       "      <td>M</td>\n",
       "      <td>W</td>\n",
       "      <td>San Francisco</td>\n",
       "      <td>CA</td>\n",
       "      <td>True</td>\n",
       "      <td>attack</td>\n",
       "      <td>Not fleeing</td>\n",
       "      <td>False</td>\n",
       "    </tr>\n",
       "    <tr>\n",
       "      <th>4</th>\n",
       "      <td>9</td>\n",
       "      <td>Michael Rodriguez</td>\n",
       "      <td>04/01/15</td>\n",
       "      <td>shot</td>\n",
       "      <td>nail gun</td>\n",
       "      <td>39.0</td>\n",
       "      <td>M</td>\n",
       "      <td>H</td>\n",
       "      <td>Evans</td>\n",
       "      <td>CO</td>\n",
       "      <td>False</td>\n",
       "      <td>attack</td>\n",
       "      <td>Not fleeing</td>\n",
       "      <td>False</td>\n",
       "    </tr>\n",
       "    <tr>\n",
       "      <th>...</th>\n",
       "      <td>...</td>\n",
       "      <td>...</td>\n",
       "      <td>...</td>\n",
       "      <td>...</td>\n",
       "      <td>...</td>\n",
       "      <td>...</td>\n",
       "      <td>...</td>\n",
       "      <td>...</td>\n",
       "      <td>...</td>\n",
       "      <td>...</td>\n",
       "      <td>...</td>\n",
       "      <td>...</td>\n",
       "      <td>...</td>\n",
       "      <td>...</td>\n",
       "    </tr>\n",
       "    <tr>\n",
       "      <th>2530</th>\n",
       "      <td>2822</td>\n",
       "      <td>Rodney E. Jacobs</td>\n",
       "      <td>28/07/17</td>\n",
       "      <td>shot</td>\n",
       "      <td>gun</td>\n",
       "      <td>31.0</td>\n",
       "      <td>M</td>\n",
       "      <td>NaN</td>\n",
       "      <td>Kansas City</td>\n",
       "      <td>MO</td>\n",
       "      <td>False</td>\n",
       "      <td>attack</td>\n",
       "      <td>Not fleeing</td>\n",
       "      <td>False</td>\n",
       "    </tr>\n",
       "    <tr>\n",
       "      <th>2531</th>\n",
       "      <td>2813</td>\n",
       "      <td>TK TK</td>\n",
       "      <td>28/07/17</td>\n",
       "      <td>shot</td>\n",
       "      <td>vehicle</td>\n",
       "      <td>NaN</td>\n",
       "      <td>M</td>\n",
       "      <td>NaN</td>\n",
       "      <td>Albuquerque</td>\n",
       "      <td>NM</td>\n",
       "      <td>False</td>\n",
       "      <td>attack</td>\n",
       "      <td>Car</td>\n",
       "      <td>False</td>\n",
       "    </tr>\n",
       "    <tr>\n",
       "      <th>2532</th>\n",
       "      <td>2818</td>\n",
       "      <td>Dennis W. Robinson</td>\n",
       "      <td>29/07/17</td>\n",
       "      <td>shot</td>\n",
       "      <td>gun</td>\n",
       "      <td>48.0</td>\n",
       "      <td>M</td>\n",
       "      <td>NaN</td>\n",
       "      <td>Melba</td>\n",
       "      <td>ID</td>\n",
       "      <td>False</td>\n",
       "      <td>attack</td>\n",
       "      <td>Car</td>\n",
       "      <td>False</td>\n",
       "    </tr>\n",
       "    <tr>\n",
       "      <th>2533</th>\n",
       "      <td>2817</td>\n",
       "      <td>Isaiah Tucker</td>\n",
       "      <td>31/07/17</td>\n",
       "      <td>shot</td>\n",
       "      <td>vehicle</td>\n",
       "      <td>28.0</td>\n",
       "      <td>M</td>\n",
       "      <td>B</td>\n",
       "      <td>Oshkosh</td>\n",
       "      <td>WI</td>\n",
       "      <td>False</td>\n",
       "      <td>attack</td>\n",
       "      <td>Car</td>\n",
       "      <td>True</td>\n",
       "    </tr>\n",
       "    <tr>\n",
       "      <th>2534</th>\n",
       "      <td>2815</td>\n",
       "      <td>Dwayne Jeune</td>\n",
       "      <td>31/07/17</td>\n",
       "      <td>shot</td>\n",
       "      <td>knife</td>\n",
       "      <td>32.0</td>\n",
       "      <td>M</td>\n",
       "      <td>B</td>\n",
       "      <td>Brooklyn</td>\n",
       "      <td>NY</td>\n",
       "      <td>True</td>\n",
       "      <td>attack</td>\n",
       "      <td>Not fleeing</td>\n",
       "      <td>False</td>\n",
       "    </tr>\n",
       "  </tbody>\n",
       "</table>\n",
       "<p>2535 rows × 14 columns</p>\n",
       "</div>"
      ],
      "text/plain": [
       "        id                name      date   manner_of_death       armed   age  \\\n",
       "0        3          Tim Elliot  02/01/15              shot         gun  53.0   \n",
       "1        4    Lewis Lee Lembke  02/01/15              shot         gun  47.0   \n",
       "2        5  John Paul Quintero  03/01/15  shot and Tasered     unarmed  23.0   \n",
       "3        8     Matthew Hoffman  04/01/15              shot  toy weapon  32.0   \n",
       "4        9   Michael Rodriguez  04/01/15              shot    nail gun  39.0   \n",
       "...    ...                 ...       ...               ...         ...   ...   \n",
       "2530  2822    Rodney E. Jacobs  28/07/17              shot         gun  31.0   \n",
       "2531  2813               TK TK  28/07/17              shot     vehicle   NaN   \n",
       "2532  2818  Dennis W. Robinson  29/07/17              shot         gun  48.0   \n",
       "2533  2817       Isaiah Tucker  31/07/17              shot     vehicle  28.0   \n",
       "2534  2815        Dwayne Jeune  31/07/17              shot       knife  32.0   \n",
       "\n",
       "     gender race           city state  signs_of_mental_illness threat_level  \\\n",
       "0         M    A        Shelton    WA                     True       attack   \n",
       "1         M    W          Aloha    OR                    False       attack   \n",
       "2         M    H        Wichita    KS                    False        other   \n",
       "3         M    W  San Francisco    CA                     True       attack   \n",
       "4         M    H          Evans    CO                    False       attack   \n",
       "...     ...  ...            ...   ...                      ...          ...   \n",
       "2530      M  NaN    Kansas City    MO                    False       attack   \n",
       "2531      M  NaN    Albuquerque    NM                    False       attack   \n",
       "2532      M  NaN          Melba    ID                    False       attack   \n",
       "2533      M    B        Oshkosh    WI                    False       attack   \n",
       "2534      M    B       Brooklyn    NY                     True       attack   \n",
       "\n",
       "             flee  body_camera  \n",
       "0     Not fleeing        False  \n",
       "1     Not fleeing        False  \n",
       "2     Not fleeing        False  \n",
       "3     Not fleeing        False  \n",
       "4     Not fleeing        False  \n",
       "...           ...          ...  \n",
       "2530  Not fleeing        False  \n",
       "2531          Car        False  \n",
       "2532          Car        False  \n",
       "2533          Car         True  \n",
       "2534  Not fleeing        False  \n",
       "\n",
       "[2535 rows x 14 columns]"
      ]
     },
     "execution_count": 33,
     "metadata": {},
     "output_type": "execute_result"
    }
   ],
   "source": [
    "df = pd.read_csv('PoliceShootingsUS.csv',encoding = 'Windows-1252')\n",
    "df"
   ]
  },
  {
   "cell_type": "code",
   "execution_count": 35,
   "id": "df7a988b",
   "metadata": {},
   "outputs": [
    {
     "data": {
      "text/plain": [
       "235"
      ]
     },
     "execution_count": 35,
     "metadata": {},
     "output_type": "execute_result"
    }
   ],
   "source": [
    "a = df['age']\n",
    "b = a[a>55].count()\n",
    "b"
   ]
  },
  {
   "cell_type": "markdown",
   "id": "02305a57",
   "metadata": {},
   "source": [
    "* What's the age distribution?"
   ]
  },
  {
   "cell_type": "code",
   "execution_count": 42,
   "id": "0b4f74c9",
   "metadata": {
    "id": "v7tImBaOgNwo"
   },
   "outputs": [
    {
     "data": {
      "text/plain": [
       "<seaborn.axisgrid.FacetGrid at 0x1fceb352760>"
      ]
     },
     "execution_count": 42,
     "metadata": {},
     "output_type": "execute_result"
    },
    {
     "data": {
      "image/png": "[encoded data removed]",
      "text/plain": [
       "<Figure size 1152x576 with 1 Axes>"
      ]
     },
     "metadata": {
      "needs_background": "light"
     },
     "output_type": "display_data"
    }
   ],
   "source": [
    "## Your code is here\n",
    "import seaborn as sns\n",
    "import matplotlib.pyplot as plt\n",
    "sns.displot(data = df, x=\"age\", kind = 'hist', height= 8, aspect= 2)"
   ]
  },
  {
   "cell_type": "markdown",
   "id": "fea7d570",
   "metadata": {},
   "source": [
    "## Dirty data\n",
    "\n",
    "Read `volunteers.txt` file and perform the following action:\n",
    "\n",
    "* Create a dataframe with columns: Name, Lastname, State"
   ]
  },
  {
   "cell_type": "code",
   "execution_count": 51,
   "id": "8c0f7665",
   "metadata": {},
   "outputs": [
    {
     "name": "stdout",
     "output_type": "stream",
     "text": [
      "\"log\"[Harding, Christine] (Virginia) - Universal human-resource flexibility\n",
      "\"log\"[Davis, Kimberly] (New York) - Compatible demand-driven hub\n",
      "\"log\"[Ingram, Rachel] (Louisiana) - Versatile multimedia website\n",
      "\"log\"[Walker, Richard] (Oregon) - Networked eco-centric approach\n",
      "\"log\"[Barnes, Francisco] (Virginia) - Persistent systematic moratorium\n",
      "\"log\"[Perez, Rachel] (Alaska) - Optimized national portal\n",
      "\"log\"[Choi, Linda] (Iowa) - Operative discrete Internet solution\n",
      "\"log\"[Gomez, Janice] (Vermont) - Managed national attitude\n",
      "\"log\"[Lloyd, Jesus] (Connecticut) - Adaptive systematic definition\n",
      "\"log\"[Moore, Alicia] (Michigan) - Innovative motivating support\n",
      "\"log\"[Murray, Pamela] (Arizona) - Diverse systematic policy\n",
      "\"log\"[Moore, Brittney] (Washington) - Progressive web-enabled synergy\n",
      "\"log\"[Jones, Alexander] (Arizona) - Advanced 24/7 data-warehouse\n",
      "\"log\"[Morales, David] (Florida) - Streamlined eco-centric conglomeration\n",
      "\"log\"[Hogan, Elizabeth] (Rhode Island) - Re-engineered demand-driven groupware\n",
      "\"log\"[Floyd, Courtney] (Pennsylvania) - Cloned real-time collaboration\n",
      "\"log\"[Scott, Mark] (West Virginia) - Grass-roots impactful firmware\n",
      "\"log\"[Johnson, Philip] (North Carolina) - Right-sized motivating function\n",
      "\"log\"[Taylor, Michael] (New Hampshire) - Streamlined bifurcated toolset\n",
      "\"log\"[Freeman, Barbara] (Pennsylvania) - Re-engineered radical initiative\n",
      "\"log\"[Humphrey, Shawn] (Oklahoma) - Reactive bi-directional array\n",
      "\"log\"[Schultz, Ernest] (South Carolina) - Re-contextualized stable protocol\n",
      "\"log\"[Harper, Alexander] (Mississippi) - Reactive system-worthy database\n",
      "\"log\"[Shaw, Kendra] (Nebraska) - Stand-alone regional knowledgebase\n",
      "\"log\"[Glenn, Samantha] (Louisiana) - Ergonomic mission-critical intranet\n",
      "\"log\"[Jackson, Kara] (Wyoming) - Team-oriented value-added extranet\n",
      "\"log\"[Rivera, Vickie] (North Carolina) - Cloned real-time customer loyalty\n",
      "\"log\"[Robinson, Matthew] (Iowa) - Organic next generation neural-net\n",
      "\"log\"[Taylor, Nicole] (Kansas) - Vision-oriented methodical project\n",
      "\"log\"[Harper, Eric] (South Dakota) - User-friendly modular productivity\n",
      "\"log\"[Smith, Karen] (Oklahoma) - Seamless user-facing complexity\n",
      "\"log\"[Chavez, Donald] (Nebraska) - Customer-focused hybrid capacity\n",
      "\"log\"[Thompson, Sarah] (Ohio) - Ergonomic coherent support\n",
      "\"log\"[Gibson, Veronica] (Vermont) - Devolved attitude-oriented info-mediaries\n",
      "\"log\"[Taylor, Steven] (Montana) - Visionary 6thgeneration productivity\n",
      "\"log\"[Mitchell, Alexandra] (North Carolina) - Realigned asymmetric encryption\n",
      "\"log\"[Simmons, Nicole] (Texas) - Secured homogeneous instruction set\n",
      "\"log\"[Ramirez, Riley] (South Dakota) - Managed modular functionalities\n",
      "\"log\"[Lopez, Kenneth] (Colorado) - Managed multi-state capability\n",
      "\"log\"[Rose, Jeffery] (Kentucky) - Digitized multi-tasking success\n",
      "\"log\"[Brown, Nichole] (Wisconsin) - Fully-configurable multimedia frame\n",
      "\"log\"[Zimmerman, Mary] (South Carolina) - Business-focused grid-enabled interface\n",
      "\"log\"[Martinez, Andrew] (Massachusetts) - Streamlined directional project\n",
      "\"log\"[Mack, Richard] (Tennessee) - Multi-layered 4thgeneration complexity\n",
      "\"log\"[Harris, Emily] (Tennessee) - Re-contextualized national software\n",
      "\"log\"[Foster, Abigail] (Tennessee) - Cross-group national website\n",
      "\"log\"[Hines, Michael] (Alaska) - Horizontal secondary alliance\n",
      "\"log\"[Fields, Jennifer] (Alabama) - Synergistic cohesive capacity\n",
      "\"log\"[Austin, Roberto] (Oklahoma) - Grass-roots holistic initiative\n",
      "\"log\"[Choi, Kimberly] (Maryland) - User-centric 6thgeneration policy\n",
      "\"log\"[Jacobs, Susan] (West Virginia) - Business-focused bottom-line utilization\n",
      "\"log\"[Morales, Rita] (Nevada) - Team-oriented holistic implementation\n",
      "\"log\"[Morales, Matthew] (Pennsylvania) - Progressive multi-state help-desk\n",
      "\"log\"[Payne, Trevor] (Wyoming) - Organic motivating installation\n",
      "\"log\"[Harmon, Melissa] (Michigan) - Organized 4thgeneration policy\n",
      "\"log\"[Hooper, Paul] (South Dakota) - Switchable composite alliance\n",
      "\"log\"[Henry, Robert] (Colorado) - Function-based contextually-based framework\n",
      "\"log\"[Bell, Connor] (Pennsylvania) - Pre-emptive neutral data-warehouse\n",
      "\"log\"[Mercado, Charles] (Arkansas) - Operative directional strategy\n",
      "\"log\"[Nelson, Ashley] (Tennessee) - Digitized multi-tasking forecast\n",
      "\"log\"[Lewis, Paul] (New York) - Programmable hybrid matrices\n",
      "\"log\"[Tanner, Ashley] (Nebraska) - Secured static synergy\n",
      "\"log\"[Zavala, Jeffery] (North Dakota) - Business-focused 24/7 installation\n",
      "\"log\"[Taylor, Kevin] (Washington) - Business-focused multi-state leverage\n",
      "\"log\"[Diaz, Michelle] (Oklahoma) - Seamless 4thgeneration collaboration\n",
      "\"log\"[Peterson, Shelly] (New Mexico) - Total radical functionalities\n",
      "\"log\"[Johnson, Robin] (Iowa) - Intuitive foreground process improvement\n",
      "\"log\"[Daniel, Helen] (Montana) - Programmable holistic interface\n",
      "\"log\"[Bartlett, Vanessa] (New York) - Diverse multimedia workforce\n",
      "\"log\"[Orozco, Emily] (Vermont) - Open-architected incremental toolset\n",
      "\"log\"[Bailey, Joseph] (Rhode Island) - Profit-focused zero administration open architecture\n",
      "\"log\"[Hardin, Monica] (Alaska) - Synergistic optimal moratorium\n",
      "\"log\"[Hartman, Jorge] (Minnesota) - User-centric next generation budgetary management\n",
      "\"log\"[Camacho, Jennifer] (New Jersey) - Seamless transitional open system\n",
      "\"log\"[Hardy, Amber] (Vermont) - Upgradable content-based secured line\n",
      "\"log\"[Ward, Tyler] (Pennsylvania) - Secured regional knowledge user\n",
      "\"log\"[Jenkins, Ruben] (Vermont) - Fully-configurable multi-state installation\n",
      "\"log\"[Greene, Larry] (South Dakota) - Quality-focused maximized strategy\n",
      "\"log\"[Wyatt, James] (Wisconsin) - Multi-lateral eco-centric hierarchy\n",
      "\"log\"[Leblanc, Travis] (Oregon) - Quality-focused fresh-thinking monitoring\n",
      "\"log\"[Rogers, Teresa] (Wyoming) - Switchable encompassing leverage\n",
      "\"log\"[Conley, Scott] (Michigan) - Mandatory impactful functionalities\n",
      "\"log\"[Murray, Patricia] (Hawaii) - Front-line neutral process improvement\n",
      "\"log\"[Matthews, Amber] (Massachusetts) - Multi-tiered needs-based system engine\n",
      "\"log\"[Munoz, Jessica] (Kansas) - Inverse 4thgeneration application\n",
      "\"log\"[Ball, Andrea] (Washington) - Managed user-facing forecast\n",
      "\"log\"[Wagner, Sydney] (New York) - Managed client-server algorithm\n",
      "\"log\"[Hebert, Stephanie] (Minnesota) - Networked attitude-oriented capability\n",
      "\"log\"[Harrington, Joseph] (South Dakota) - Balanced actuating protocol\n",
      "\"log\"[Jackson, David] (North Dakota) - Compatible scalable matrices\n",
      "\"log\"[Jones, Natalie] (Michigan) - Focused systemic hierarchy\n",
      "\"log\"[Thornton, Seth] (Iowa) - Innovative content-based forecast\n",
      "\"log\"[Nelson, Steven] (Wisconsin) - User-centric attitude-oriented flexibility\n",
      "\"log\"[Green, Robert] (Kansas) - Synchronized 4thgeneration focus group\n",
      "\"log\"[Blair, Crystal] (Kansas) - Triple-buffered radical capability\n",
      "\"log\"[Smith, Kevin] (North Dakota) - Seamless discrete time-frame\n",
      "\"log\"[Moore, Mark] (Alaska) - Team-oriented actuating capacity\n",
      "\"log\"[Landry, Jennifer] (Wyoming) - User-centric object-oriented neural-net\n",
      "\"log\"[Phillips, Lori] (Arkansas) - Sharable content-based parallelism\n",
      "\"log\"[Davis, Tiffany] (Mississippi) - Focused asynchronous process improvement\n",
      "\n"
     ]
    }
   ],
   "source": [
    "## Your code is here\n",
    "with open('volunteers.txt') as f:\n",
    "    lines = f.read()\n",
    "    print(lines)"
   ]
  },
  {
   "cell_type": "code",
   "execution_count": null,
   "id": "cf0259df",
   "metadata": {},
   "outputs": [],
   "source": [
    "data={'Name':['Karan','Rohit','Sahil','Aryan'],'Age':[23,22,21,24]}\n",
    "\n",
    "df=pd.dataframe(data)\n",
    "\n",
    "df #print the dataframe"
   ]
  },
  {
   "cell_type": "code",
   "execution_count": null,
   "id": "4edcd2df",
   "metadata": {},
   "outputs": [],
   "source": []
  }
 ],
 "metadata": {
  "kernelspec": {
   "display_name": "Python 3 (ipykernel)",
   "language": "python",
   "name": "python3"
  },
  "language_info": {
   "codemirror_mode": {
    "name": "ipython",
    "version": 3
   },
   "file_extension": ".py",
   "mimetype": "text/x-python",
   "name": "python",
   "nbconvert_exporter": "python",
   "pygments_lexer": "ipython3",
   "version": "3.9.7"
  },
  "toc": {
   "base_numbering": 1,
   "nav_menu": {},
   "number_sections": false,
   "sideBar": true,
   "skip_h1_title": false,
   "title_cell": "Table of Contents",
   "title_sidebar": "Contents",
   "toc_cell": false,
   "toc_position": {
    "height": "calc(100% - 180px)",
    "left": "10px",
    "top": "150px",
    "width": "261.818px"
   },
   "toc_section_display": true,
   "toc_window_display": true
  }
 },
 "nbformat": 4,
 "nbformat_minor": 5
}
